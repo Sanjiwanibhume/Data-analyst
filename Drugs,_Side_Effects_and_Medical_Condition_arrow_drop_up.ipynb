{
  "nbformat": 4,
  "nbformat_minor": 0,
  "metadata": {
    "colab": {
      "provenance": [],
      "authorship_tag": "ABX9TyOnCFup4PrzLR9BWoPEb/GB",
      "include_colab_link": true
    },
    "kernelspec": {
      "name": "python3",
      "display_name": "Python 3"
    },
    "language_info": {
      "name": "python"
    }
  },
  "cells": [
    {
      "cell_type": "markdown",
      "metadata": {
        "id": "view-in-github",
        "colab_type": "text"
      },
      "source": [
        "<a href=\"https://colab.research.google.com/github/Sanjiwanibhume/Data-analyst/blob/main/Drugs%2C_Side_Effects_and_Medical_Condition_arrow_drop_up.ipynb\" target=\"_parent\"><img src=\"https://colab.research.google.com/assets/colab-badge.svg\" alt=\"Open In Colab\"/></a>"
      ]
    },
    {
      "cell_type": "code",
      "execution_count": null,
      "metadata": {
        "id": "RMXSmNFNAmtT"
      },
      "outputs": [],
      "source": [
        "import pandas as pd\n",
        "import numpy as np"
      ]
    },
    {
      "cell_type": "code",
      "source": [
        "data = pd.read_csv('/content/drugs_side_effects_drugs_com.csv')"
      ],
      "metadata": {
        "id": "RdDsPmH6V35_"
      },
      "execution_count": null,
      "outputs": []
    },
    {
      "cell_type": "code",
      "source": [
        "# Display the columns quantity and names\n",
        "print('The dataset has {} rows and {} columns'.format(data.shape[0], data.shape[1]))\n",
        "print(\"column:\")\n",
        "print(data.columns)\n",
        "print(data.columns)"
      ],
      "metadata": {
        "colab": {
          "base_uri": "https://localhost:8080/"
        },
        "id": "aNBsQ1UdWRIO",
        "outputId": "a7189653-5ae0-41c0-e86e-8bc81206f276"
      },
      "execution_count": null,
      "outputs": [
        {
          "output_type": "stream",
          "name": "stdout",
          "text": [
            "The dataset has 2931 rows and 17 columns\n",
            "column:\n",
            "Index(['drug_name', 'medical_condition', 'side_effects', 'generic_name',\n",
            "       'drug_classes', 'brand_names', 'activity', 'rx_otc',\n",
            "       'pregnancy_category', 'csa', 'alcohol', 'related_drugs',\n",
            "       'medical_condition_description', 'rating', 'no_of_reviews', 'drug_link',\n",
            "       'medical_condition_url'],\n",
            "      dtype='object')\n",
            "Index(['drug_name', 'medical_condition', 'side_effects', 'generic_name',\n",
            "       'drug_classes', 'brand_names', 'activity', 'rx_otc',\n",
            "       'pregnancy_category', 'csa', 'alcohol', 'related_drugs',\n",
            "       'medical_condition_description', 'rating', 'no_of_reviews', 'drug_link',\n",
            "       'medical_condition_url'],\n",
            "      dtype='object')\n"
          ]
        }
      ]
    },
    {
      "cell_type": "code",
      "source": [
        "# Instead of just 'Index', use 'pd.Index'\n",
        "print(pd.Index(['drug_name', 'medical_condition', 'side_effects','generic_name','drug_classes', 'brand_names', 'activity', 'rx_otc','pregnancy_category', 'csa', 'alcohol', 'related_drugs','medical_condition_description', 'rating','no_of_reviews', 'drug_link','medical_condition_url'],dtype='object'))"
      ],
      "metadata": {
        "colab": {
          "base_uri": "https://localhost:8080/"
        },
        "id": "V2K9yD-sX__o",
        "outputId": "f15f2540-14ca-47d5-d8a9-b21239a5aa30"
      },
      "execution_count": null,
      "outputs": [
        {
          "output_type": "stream",
          "name": "stdout",
          "text": [
            "Index(['drug_name', 'medical_condition', 'side_effects', 'generic_name',\n",
            "       'drug_classes', 'brand_names', 'activity', 'rx_otc',\n",
            "       'pregnancy_category', 'csa', 'alcohol', 'related_drugs',\n",
            "       'medical_condition_description', 'rating', 'no_of_reviews', 'drug_link',\n",
            "       'medical_condition_url'],\n",
            "      dtype='object')\n"
          ]
        }
      ]
    },
    {
      "cell_type": "code",
      "source": [
        "print(pd.Index(['drug_name', 'medical_condition', 'side_effects','generic_name','drug_classes', 'brand_names', 'activity', 'rx_otc','pregnancy_category', 'csa', 'alcohol', 'related_drugs','medical_condition_description', 'rating','no_of_reviews', 'drug_link','medical_condition_url'],dtype='object'))\n",
        "pd.Index(['drug_name', 'medical_condition', 'side_effects','generic_name','drug_classes', 'brand_names', 'activity', 'rx_otc','pregnancy_category', 'csa', 'alcohol', 'related_drugs','medical_condition_description', 'rating','no_of_reviews', 'drug_link','medical_condition_url'],dtype='object')"
      ],
      "metadata": {
        "colab": {
          "base_uri": "https://localhost:8080/"
        },
        "id": "4YGEt6o6YEua",
        "outputId": "885ce5bc-d9e2-4572-807a-4e28f3d08e8b"
      },
      "execution_count": null,
      "outputs": [
        {
          "output_type": "stream",
          "name": "stdout",
          "text": [
            "Index(['drug_name', 'medical_condition', 'side_effects', 'generic_name',\n",
            "       'drug_classes', 'brand_names', 'activity', 'rx_otc',\n",
            "       'pregnancy_category', 'csa', 'alcohol', 'related_drugs',\n",
            "       'medical_condition_description', 'rating', 'no_of_reviews', 'drug_link',\n",
            "       'medical_condition_url'],\n",
            "      dtype='object')\n"
          ]
        },
        {
          "output_type": "execute_result",
          "data": {
            "text/plain": [
              "Index(['drug_name', 'medical_condition', 'side_effects', 'generic_name',\n",
              "       'drug_classes', 'brand_names', 'activity', 'rx_otc',\n",
              "       'pregnancy_category', 'csa', 'alcohol', 'related_drugs',\n",
              "       'medical_condition_description', 'rating', 'no_of_reviews', 'drug_link',\n",
              "       'medical_condition_url'],\n",
              "      dtype='object')"
            ]
          },
          "metadata": {},
          "execution_count": 10
        }
      ]
    },
    {
      "cell_type": "code",
      "source": [
        "# Show the main information about dataset\n",
        "\n",
        "data.info()"
      ],
      "metadata": {
        "colab": {
          "base_uri": "https://localhost:8080/"
        },
        "id": "u0wiAnUTZE5i",
        "outputId": "f819e1c0-b95f-4e82-a3ca-6ddc435335c2"
      },
      "execution_count": null,
      "outputs": [
        {
          "output_type": "stream",
          "name": "stdout",
          "text": [
            "<class 'pandas.core.frame.DataFrame'>\n",
            "RangeIndex: 2931 entries, 0 to 2930\n",
            "Data columns (total 17 columns):\n",
            " #   Column                         Non-Null Count  Dtype  \n",
            "---  ------                         --------------  -----  \n",
            " 0   drug_name                      2931 non-null   object \n",
            " 1   medical_condition              2931 non-null   object \n",
            " 2   side_effects                   2807 non-null   object \n",
            " 3   generic_name                   2888 non-null   object \n",
            " 4   drug_classes                   2849 non-null   object \n",
            " 5   brand_names                    1718 non-null   object \n",
            " 6   activity                       2931 non-null   object \n",
            " 7   rx_otc                         2930 non-null   object \n",
            " 8   pregnancy_category             2702 non-null   object \n",
            " 9   csa                            2931 non-null   object \n",
            " 10  alcohol                        1377 non-null   object \n",
            " 11  related_drugs                  1462 non-null   object \n",
            " 12  medical_condition_description  2931 non-null   object \n",
            " 13  rating                         1586 non-null   float64\n",
            " 14  no_of_reviews                  1586 non-null   float64\n",
            " 15  drug_link                      2931 non-null   object \n",
            " 16  medical_condition_url          2931 non-null   object \n",
            "dtypes: float64(2), object(15)\n",
            "memory usage: 389.4+ KB\n"
          ]
        }
      ]
    },
    {
      "cell_type": "code",
      "source": [
        "data.head()"
      ],
      "metadata": {
        "colab": {
          "base_uri": "https://localhost:8080/",
          "height": 556
        },
        "id": "ZGD6tB6gZNbX",
        "outputId": "8581d23e-6ce9-45c5-9efb-1d97ea8286af"
      },
      "execution_count": null,
      "outputs": [
        {
          "output_type": "execute_result",
          "data": {
            "text/plain": [
              "        drug_name medical_condition  \\\n",
              "0     doxycycline              Acne   \n",
              "1  spironolactone              Acne   \n",
              "2     minocycline              Acne   \n",
              "3        Accutane              Acne   \n",
              "4     clindamycin              Acne   \n",
              "\n",
              "                                        side_effects         generic_name  \\\n",
              "0  (hives, difficult breathing, swelling in your ...          doxycycline   \n",
              "1  hives ; difficulty breathing; swelling of your...       spironolactone   \n",
              "2  skin rash, fever, swollen glands, flu-like sym...          minocycline   \n",
              "3  problems with your vision or hearing; muscle o...  isotretinoin (oral)   \n",
              "4  hives ; difficult breathing; swelling of your ...  clindamycin topical   \n",
              "\n",
              "                                        drug_classes  \\\n",
              "0         Miscellaneous antimalarials, Tetracyclines   \n",
              "1  Aldosterone receptor antagonists, Potassium-sp...   \n",
              "2                                      Tetracyclines   \n",
              "3  Miscellaneous antineoplastics, Miscellaneous u...   \n",
              "4       Topical acne agents, Vaginal anti-infectives   \n",
              "\n",
              "                                         brand_names activity rx_otc  \\\n",
              "0  Acticlate, Adoxa CK, Adoxa Pak, Adoxa TT, Alod...      87%     Rx   \n",
              "1                                Aldactone, CaroSpir      82%     Rx   \n",
              "2  Dynacin, Minocin, Minolira, Solodyn, Ximino, V...      48%     Rx   \n",
              "3                                                NaN      41%     Rx   \n",
              "4  Cleocin T, Clindacin ETZ, Clindacin P, Clindag...      39%     Rx   \n",
              "\n",
              "  pregnancy_category csa alcohol  \\\n",
              "0                  D   N       X   \n",
              "1                  C   N       X   \n",
              "2                  D   N     NaN   \n",
              "3                  X   N       X   \n",
              "4                  B   N     NaN   \n",
              "\n",
              "                                       related_drugs  \\\n",
              "0  amoxicillin: https://www.drugs.com/amoxicillin...   \n",
              "1  amlodipine: https://www.drugs.com/amlodipine.h...   \n",
              "2  amoxicillin: https://www.drugs.com/amoxicillin...   \n",
              "3  doxycycline: https://www.drugs.com/doxycycline...   \n",
              "4  doxycycline: https://www.drugs.com/doxycycline...   \n",
              "\n",
              "                       medical_condition_description  rating  no_of_reviews  \\\n",
              "0  Acne Other names: Acne Vulgaris; Blackheads; B...     6.8          760.0   \n",
              "1  Acne Other names: Acne Vulgaris; Blackheads; B...     7.2          449.0   \n",
              "2  Acne Other names: Acne Vulgaris; Blackheads; B...     5.7          482.0   \n",
              "3  Acne Other names: Acne Vulgaris; Blackheads; B...     7.9          623.0   \n",
              "4  Acne Other names: Acne Vulgaris; Blackheads; B...     7.4          146.0   \n",
              "\n",
              "                                           drug_link  \\\n",
              "0             https://www.drugs.com/doxycycline.html   \n",
              "1          https://www.drugs.com/spironolactone.html   \n",
              "2             https://www.drugs.com/minocycline.html   \n",
              "3                https://www.drugs.com/accutane.html   \n",
              "4  https://www.drugs.com/mtm/clindamycin-topical....   \n",
              "\n",
              "                       medical_condition_url  \n",
              "0  https://www.drugs.com/condition/acne.html  \n",
              "1  https://www.drugs.com/condition/acne.html  \n",
              "2  https://www.drugs.com/condition/acne.html  \n",
              "3  https://www.drugs.com/condition/acne.html  \n",
              "4  https://www.drugs.com/condition/acne.html  "
            ],
            "text/html": [
              "\n",
              "  <div id=\"df-dac50949-f873-41d4-bfa8-2b9a4e8f79d3\" class=\"colab-df-container\">\n",
              "    <div>\n",
              "<style scoped>\n",
              "    .dataframe tbody tr th:only-of-type {\n",
              "        vertical-align: middle;\n",
              "    }\n",
              "\n",
              "    .dataframe tbody tr th {\n",
              "        vertical-align: top;\n",
              "    }\n",
              "\n",
              "    .dataframe thead th {\n",
              "        text-align: right;\n",
              "    }\n",
              "</style>\n",
              "<table border=\"1\" class=\"dataframe\">\n",
              "  <thead>\n",
              "    <tr style=\"text-align: right;\">\n",
              "      <th></th>\n",
              "      <th>drug_name</th>\n",
              "      <th>medical_condition</th>\n",
              "      <th>side_effects</th>\n",
              "      <th>generic_name</th>\n",
              "      <th>drug_classes</th>\n",
              "      <th>brand_names</th>\n",
              "      <th>activity</th>\n",
              "      <th>rx_otc</th>\n",
              "      <th>pregnancy_category</th>\n",
              "      <th>csa</th>\n",
              "      <th>alcohol</th>\n",
              "      <th>related_drugs</th>\n",
              "      <th>medical_condition_description</th>\n",
              "      <th>rating</th>\n",
              "      <th>no_of_reviews</th>\n",
              "      <th>drug_link</th>\n",
              "      <th>medical_condition_url</th>\n",
              "    </tr>\n",
              "  </thead>\n",
              "  <tbody>\n",
              "    <tr>\n",
              "      <th>0</th>\n",
              "      <td>doxycycline</td>\n",
              "      <td>Acne</td>\n",
              "      <td>(hives, difficult breathing, swelling in your ...</td>\n",
              "      <td>doxycycline</td>\n",
              "      <td>Miscellaneous antimalarials, Tetracyclines</td>\n",
              "      <td>Acticlate, Adoxa CK, Adoxa Pak, Adoxa TT, Alod...</td>\n",
              "      <td>87%</td>\n",
              "      <td>Rx</td>\n",
              "      <td>D</td>\n",
              "      <td>N</td>\n",
              "      <td>X</td>\n",
              "      <td>amoxicillin: https://www.drugs.com/amoxicillin...</td>\n",
              "      <td>Acne Other names: Acne Vulgaris; Blackheads; B...</td>\n",
              "      <td>6.8</td>\n",
              "      <td>760.0</td>\n",
              "      <td>https://www.drugs.com/doxycycline.html</td>\n",
              "      <td>https://www.drugs.com/condition/acne.html</td>\n",
              "    </tr>\n",
              "    <tr>\n",
              "      <th>1</th>\n",
              "      <td>spironolactone</td>\n",
              "      <td>Acne</td>\n",
              "      <td>hives ; difficulty breathing; swelling of your...</td>\n",
              "      <td>spironolactone</td>\n",
              "      <td>Aldosterone receptor antagonists, Potassium-sp...</td>\n",
              "      <td>Aldactone, CaroSpir</td>\n",
              "      <td>82%</td>\n",
              "      <td>Rx</td>\n",
              "      <td>C</td>\n",
              "      <td>N</td>\n",
              "      <td>X</td>\n",
              "      <td>amlodipine: https://www.drugs.com/amlodipine.h...</td>\n",
              "      <td>Acne Other names: Acne Vulgaris; Blackheads; B...</td>\n",
              "      <td>7.2</td>\n",
              "      <td>449.0</td>\n",
              "      <td>https://www.drugs.com/spironolactone.html</td>\n",
              "      <td>https://www.drugs.com/condition/acne.html</td>\n",
              "    </tr>\n",
              "    <tr>\n",
              "      <th>2</th>\n",
              "      <td>minocycline</td>\n",
              "      <td>Acne</td>\n",
              "      <td>skin rash, fever, swollen glands, flu-like sym...</td>\n",
              "      <td>minocycline</td>\n",
              "      <td>Tetracyclines</td>\n",
              "      <td>Dynacin, Minocin, Minolira, Solodyn, Ximino, V...</td>\n",
              "      <td>48%</td>\n",
              "      <td>Rx</td>\n",
              "      <td>D</td>\n",
              "      <td>N</td>\n",
              "      <td>NaN</td>\n",
              "      <td>amoxicillin: https://www.drugs.com/amoxicillin...</td>\n",
              "      <td>Acne Other names: Acne Vulgaris; Blackheads; B...</td>\n",
              "      <td>5.7</td>\n",
              "      <td>482.0</td>\n",
              "      <td>https://www.drugs.com/minocycline.html</td>\n",
              "      <td>https://www.drugs.com/condition/acne.html</td>\n",
              "    </tr>\n",
              "    <tr>\n",
              "      <th>3</th>\n",
              "      <td>Accutane</td>\n",
              "      <td>Acne</td>\n",
              "      <td>problems with your vision or hearing; muscle o...</td>\n",
              "      <td>isotretinoin (oral)</td>\n",
              "      <td>Miscellaneous antineoplastics, Miscellaneous u...</td>\n",
              "      <td>NaN</td>\n",
              "      <td>41%</td>\n",
              "      <td>Rx</td>\n",
              "      <td>X</td>\n",
              "      <td>N</td>\n",
              "      <td>X</td>\n",
              "      <td>doxycycline: https://www.drugs.com/doxycycline...</td>\n",
              "      <td>Acne Other names: Acne Vulgaris; Blackheads; B...</td>\n",
              "      <td>7.9</td>\n",
              "      <td>623.0</td>\n",
              "      <td>https://www.drugs.com/accutane.html</td>\n",
              "      <td>https://www.drugs.com/condition/acne.html</td>\n",
              "    </tr>\n",
              "    <tr>\n",
              "      <th>4</th>\n",
              "      <td>clindamycin</td>\n",
              "      <td>Acne</td>\n",
              "      <td>hives ; difficult breathing; swelling of your ...</td>\n",
              "      <td>clindamycin topical</td>\n",
              "      <td>Topical acne agents, Vaginal anti-infectives</td>\n",
              "      <td>Cleocin T, Clindacin ETZ, Clindacin P, Clindag...</td>\n",
              "      <td>39%</td>\n",
              "      <td>Rx</td>\n",
              "      <td>B</td>\n",
              "      <td>N</td>\n",
              "      <td>NaN</td>\n",
              "      <td>doxycycline: https://www.drugs.com/doxycycline...</td>\n",
              "      <td>Acne Other names: Acne Vulgaris; Blackheads; B...</td>\n",
              "      <td>7.4</td>\n",
              "      <td>146.0</td>\n",
              "      <td>https://www.drugs.com/mtm/clindamycin-topical....</td>\n",
              "      <td>https://www.drugs.com/condition/acne.html</td>\n",
              "    </tr>\n",
              "  </tbody>\n",
              "</table>\n",
              "</div>\n",
              "    <div class=\"colab-df-buttons\">\n",
              "\n",
              "  <div class=\"colab-df-container\">\n",
              "    <button class=\"colab-df-convert\" onclick=\"convertToInteractive('df-dac50949-f873-41d4-bfa8-2b9a4e8f79d3')\"\n",
              "            title=\"Convert this dataframe to an interactive table.\"\n",
              "            style=\"display:none;\">\n",
              "\n",
              "  <svg xmlns=\"http://www.w3.org/2000/svg\" height=\"24px\" viewBox=\"0 -960 960 960\">\n",
              "    <path d=\"M120-120v-720h720v720H120Zm60-500h600v-160H180v160Zm220 220h160v-160H400v160Zm0 220h160v-160H400v160ZM180-400h160v-160H180v160Zm440 0h160v-160H620v160ZM180-180h160v-160H180v160Zm440 0h160v-160H620v160Z\"/>\n",
              "  </svg>\n",
              "    </button>\n",
              "\n",
              "  <style>\n",
              "    .colab-df-container {\n",
              "      display:flex;\n",
              "      gap: 12px;\n",
              "    }\n",
              "\n",
              "    .colab-df-convert {\n",
              "      background-color: #E8F0FE;\n",
              "      border: none;\n",
              "      border-radius: 50%;\n",
              "      cursor: pointer;\n",
              "      display: none;\n",
              "      fill: #1967D2;\n",
              "      height: 32px;\n",
              "      padding: 0 0 0 0;\n",
              "      width: 32px;\n",
              "    }\n",
              "\n",
              "    .colab-df-convert:hover {\n",
              "      background-color: #E2EBFA;\n",
              "      box-shadow: 0px 1px 2px rgba(60, 64, 67, 0.3), 0px 1px 3px 1px rgba(60, 64, 67, 0.15);\n",
              "      fill: #174EA6;\n",
              "    }\n",
              "\n",
              "    .colab-df-buttons div {\n",
              "      margin-bottom: 4px;\n",
              "    }\n",
              "\n",
              "    [theme=dark] .colab-df-convert {\n",
              "      background-color: #3B4455;\n",
              "      fill: #D2E3FC;\n",
              "    }\n",
              "\n",
              "    [theme=dark] .colab-df-convert:hover {\n",
              "      background-color: #434B5C;\n",
              "      box-shadow: 0px 1px 3px 1px rgba(0, 0, 0, 0.15);\n",
              "      filter: drop-shadow(0px 1px 2px rgba(0, 0, 0, 0.3));\n",
              "      fill: #FFFFFF;\n",
              "    }\n",
              "  </style>\n",
              "\n",
              "    <script>\n",
              "      const buttonEl =\n",
              "        document.querySelector('#df-dac50949-f873-41d4-bfa8-2b9a4e8f79d3 button.colab-df-convert');\n",
              "      buttonEl.style.display =\n",
              "        google.colab.kernel.accessAllowed ? 'block' : 'none';\n",
              "\n",
              "      async function convertToInteractive(key) {\n",
              "        const element = document.querySelector('#df-dac50949-f873-41d4-bfa8-2b9a4e8f79d3');\n",
              "        const dataTable =\n",
              "          await google.colab.kernel.invokeFunction('convertToInteractive',\n",
              "                                                    [key], {});\n",
              "        if (!dataTable) return;\n",
              "\n",
              "        const docLinkHtml = 'Like what you see? Visit the ' +\n",
              "          '<a target=\"_blank\" href=https://colab.research.google.com/notebooks/data_table.ipynb>data table notebook</a>'\n",
              "          + ' to learn more about interactive tables.';\n",
              "        element.innerHTML = '';\n",
              "        dataTable['output_type'] = 'display_data';\n",
              "        await google.colab.output.renderOutput(dataTable, element);\n",
              "        const docLink = document.createElement('div');\n",
              "        docLink.innerHTML = docLinkHtml;\n",
              "        element.appendChild(docLink);\n",
              "      }\n",
              "    </script>\n",
              "  </div>\n",
              "\n",
              "\n",
              "    <div id=\"df-68442734-14fc-4e46-b603-f1a6eec42266\">\n",
              "      <button class=\"colab-df-quickchart\" onclick=\"quickchart('df-68442734-14fc-4e46-b603-f1a6eec42266')\"\n",
              "                title=\"Suggest charts\"\n",
              "                style=\"display:none;\">\n",
              "\n",
              "<svg xmlns=\"http://www.w3.org/2000/svg\" height=\"24px\"viewBox=\"0 0 24 24\"\n",
              "     width=\"24px\">\n",
              "    <g>\n",
              "        <path d=\"M19 3H5c-1.1 0-2 .9-2 2v14c0 1.1.9 2 2 2h14c1.1 0 2-.9 2-2V5c0-1.1-.9-2-2-2zM9 17H7v-7h2v7zm4 0h-2V7h2v10zm4 0h-2v-4h2v4z\"/>\n",
              "    </g>\n",
              "</svg>\n",
              "      </button>\n",
              "\n",
              "<style>\n",
              "  .colab-df-quickchart {\n",
              "      --bg-color: #E8F0FE;\n",
              "      --fill-color: #1967D2;\n",
              "      --hover-bg-color: #E2EBFA;\n",
              "      --hover-fill-color: #174EA6;\n",
              "      --disabled-fill-color: #AAA;\n",
              "      --disabled-bg-color: #DDD;\n",
              "  }\n",
              "\n",
              "  [theme=dark] .colab-df-quickchart {\n",
              "      --bg-color: #3B4455;\n",
              "      --fill-color: #D2E3FC;\n",
              "      --hover-bg-color: #434B5C;\n",
              "      --hover-fill-color: #FFFFFF;\n",
              "      --disabled-bg-color: #3B4455;\n",
              "      --disabled-fill-color: #666;\n",
              "  }\n",
              "\n",
              "  .colab-df-quickchart {\n",
              "    background-color: var(--bg-color);\n",
              "    border: none;\n",
              "    border-radius: 50%;\n",
              "    cursor: pointer;\n",
              "    display: none;\n",
              "    fill: var(--fill-color);\n",
              "    height: 32px;\n",
              "    padding: 0;\n",
              "    width: 32px;\n",
              "  }\n",
              "\n",
              "  .colab-df-quickchart:hover {\n",
              "    background-color: var(--hover-bg-color);\n",
              "    box-shadow: 0 1px 2px rgba(60, 64, 67, 0.3), 0 1px 3px 1px rgba(60, 64, 67, 0.15);\n",
              "    fill: var(--button-hover-fill-color);\n",
              "  }\n",
              "\n",
              "  .colab-df-quickchart-complete:disabled,\n",
              "  .colab-df-quickchart-complete:disabled:hover {\n",
              "    background-color: var(--disabled-bg-color);\n",
              "    fill: var(--disabled-fill-color);\n",
              "    box-shadow: none;\n",
              "  }\n",
              "\n",
              "  .colab-df-spinner {\n",
              "    border: 2px solid var(--fill-color);\n",
              "    border-color: transparent;\n",
              "    border-bottom-color: var(--fill-color);\n",
              "    animation:\n",
              "      spin 1s steps(1) infinite;\n",
              "  }\n",
              "\n",
              "  @keyframes spin {\n",
              "    0% {\n",
              "      border-color: transparent;\n",
              "      border-bottom-color: var(--fill-color);\n",
              "      border-left-color: var(--fill-color);\n",
              "    }\n",
              "    20% {\n",
              "      border-color: transparent;\n",
              "      border-left-color: var(--fill-color);\n",
              "      border-top-color: var(--fill-color);\n",
              "    }\n",
              "    30% {\n",
              "      border-color: transparent;\n",
              "      border-left-color: var(--fill-color);\n",
              "      border-top-color: var(--fill-color);\n",
              "      border-right-color: var(--fill-color);\n",
              "    }\n",
              "    40% {\n",
              "      border-color: transparent;\n",
              "      border-right-color: var(--fill-color);\n",
              "      border-top-color: var(--fill-color);\n",
              "    }\n",
              "    60% {\n",
              "      border-color: transparent;\n",
              "      border-right-color: var(--fill-color);\n",
              "    }\n",
              "    80% {\n",
              "      border-color: transparent;\n",
              "      border-right-color: var(--fill-color);\n",
              "      border-bottom-color: var(--fill-color);\n",
              "    }\n",
              "    90% {\n",
              "      border-color: transparent;\n",
              "      border-bottom-color: var(--fill-color);\n",
              "    }\n",
              "  }\n",
              "</style>\n",
              "\n",
              "      <script>\n",
              "        async function quickchart(key) {\n",
              "          const quickchartButtonEl =\n",
              "            document.querySelector('#' + key + ' button');\n",
              "          quickchartButtonEl.disabled = true;  // To prevent multiple clicks.\n",
              "          quickchartButtonEl.classList.add('colab-df-spinner');\n",
              "          try {\n",
              "            const charts = await google.colab.kernel.invokeFunction(\n",
              "                'suggestCharts', [key], {});\n",
              "          } catch (error) {\n",
              "            console.error('Error during call to suggestCharts:', error);\n",
              "          }\n",
              "          quickchartButtonEl.classList.remove('colab-df-spinner');\n",
              "          quickchartButtonEl.classList.add('colab-df-quickchart-complete');\n",
              "        }\n",
              "        (() => {\n",
              "          let quickchartButtonEl =\n",
              "            document.querySelector('#df-68442734-14fc-4e46-b603-f1a6eec42266 button');\n",
              "          quickchartButtonEl.style.display =\n",
              "            google.colab.kernel.accessAllowed ? 'block' : 'none';\n",
              "        })();\n",
              "      </script>\n",
              "    </div>\n",
              "\n",
              "    </div>\n",
              "  </div>\n"
            ],
            "application/vnd.google.colaboratory.intrinsic+json": {
              "type": "dataframe",
              "variable_name": "data",
              "summary": "{\n  \"name\": \"data\",\n  \"rows\": 2931,\n  \"fields\": [\n    {\n      \"column\": \"drug_name\",\n      \"properties\": {\n        \"dtype\": \"string\",\n        \"num_unique_values\": 2912,\n        \"samples\": [\n          \"Liquimat Light\",\n          \"Biaxin XL\",\n          \"plazomicin\"\n        ],\n        \"semantic_type\": \"\",\n        \"description\": \"\"\n      }\n    },\n    {\n      \"column\": \"medical_condition\",\n      \"properties\": {\n        \"dtype\": \"category\",\n        \"num_unique_values\": 47,\n        \"samples\": [\n          \"Herpes\",\n          \"Psoriasis\",\n          \"Hayfever\"\n        ],\n        \"semantic_type\": \"\",\n        \"description\": \"\"\n      }\n    },\n    {\n      \"column\": \"side_effects\",\n      \"properties\": {\n        \"dtype\": \"string\",\n        \"num_unique_values\": 2759,\n        \"samples\": [\n          \"hives ; fever, tiredness, body aches, not feeling well; sores or blisters in your mouth; red or puffy eyes; difficult breathing; swelling of your face, lips, tongue, or throat. Seek medical treatment if you have a serious drug reaction that can affect many parts of your body. Symptoms may include: skin rash, fever, swollen glands, muscle aches, severe weakness, unusual bruising, or yellowing of your skin or eyes. Your cabotegravir and rilpivirine injections may be permanently discontinued if you have an allergic reaction. Some side effects may occur within a few minutes after an injection. Tell your caregiver if you feel anxious, warm, light-headed, sweaty, or have stomach pain, or numbness in your mouth. Cabotegravir and rilpivirine may cause serious side effects. Call your doctor at once if you have: unusual changes in mood or behavior; suicidal thoughts or actions; or liver problems--loss of appetite, nausea , vomiting , stomach pain (upper right side), itching, dark urine, clay-colored stools, jaundice (yellowing of the skin or eyes). Common side effects of cabotegravir and rilpivirine may include: pain, redness, swelling, itching, bruising, warmth, or a hard lump where an injection was given; fever; nausea; pain in your bones, joints or muscles; feeling tired, sleep problems; headache , dizziness ; or rash.\",\n          \"hives ; difficult breathing; swelling of your face, lips, tongue, or throat. Seek medical attention right away if you have signs of a genital infection (penis or vagina): burning, itching, odor, discharge, pain, tenderness, redness or swelling of the genital or rectal area, fever, not feeling well. These symptoms may get worse quickly. Ertugliflozin and metformin may cause serious side effects. Call your doctor at once if you have: new pain, tenderness, sores, ulcers, or infections in your legs or feet; little or no urination; lactic acidosis--unusual muscle pain, trouble breathing, stomach pain, vomiting, irregular heart rate, dizziness, feeling cold, or feeling very weak or tired; ketoacidosis (too much acid in the blood)-- nausea , vomiting, stomach pain, confusion, unusual drowsiness, or trouble breathing; dehydration symptoms--dizziness, weakness, feeling light-headed (like you might pass out); or signs of a bladder infection --pain or burning when you urinate, increased urination, blood in your urine, fever, pain in your pelvis or back. Some side effects may be more likely to occur in older adults. Common side effects of ertugliflozin and metformin may include: genital yeast infection; stomach discomfort; nausea, vomiting, diarrhea, gas; headache , weakness; or urinating more than usual.\",\n          \"hives ; difficult breathing; swelling of the face, lips, tongue, or throat. While receiving Baci-IM, your baby will be watched for the following side effects: diarrhea that is watery or bloody; urinating more than usual or more often; little or no urinating (fewer wet diapers); blood in the urine; lower back pain ; or painful urination. Common side effects include: nausea , vomiting ; mild skin rash ; or pain, burning, or swelling where the medicine was injected.\"\n        ],\n        \"semantic_type\": \"\",\n        \"description\": \"\"\n      }\n    },\n    {\n      \"column\": \"generic_name\",\n      \"properties\": {\n        \"dtype\": \"category\",\n        \"num_unique_values\": 1392,\n        \"samples\": [\n          \"famotidine and ibuprofen\",\n          \"donepezil (oral)\",\n          \"plazomicin\"\n        ],\n        \"semantic_type\": \"\",\n        \"description\": \"\"\n      }\n    },\n    {\n      \"column\": \"drug_classes\",\n      \"properties\": {\n        \"dtype\": \"category\",\n        \"num_unique_values\": 274,\n        \"samples\": [\n          \"Antiviral combinations\",\n          \"GI stimulants, Miscellaneous antiemetics\",\n          \"Antiadrenergic agents, peripherally acting\"\n        ],\n        \"semantic_type\": \"\",\n        \"description\": \"\"\n      }\n    },\n    {\n      \"column\": \"brand_names\",\n      \"properties\": {\n        \"dtype\": \"string\",\n        \"num_unique_values\": 1552,\n        \"samples\": [\n          \"Primsol, Trimpex, Proloprim\",\n          \"KlonoPIN, KlonoPIN Wafer\",\n          \"Invega\"\n        ],\n        \"semantic_type\": \"\",\n        \"description\": \"\"\n      }\n    },\n    {\n      \"column\": \"activity\",\n      \"properties\": {\n        \"dtype\": \"category\",\n        \"num_unique_values\": 93,\n        \"samples\": [\n          \"60%\",\n          \"100%\",\n          \"84%\"\n        ],\n        \"semantic_type\": \"\",\n        \"description\": \"\"\n      }\n    },\n    {\n      \"column\": \"rx_otc\",\n      \"properties\": {\n        \"dtype\": \"category\",\n        \"num_unique_values\": 3,\n        \"samples\": [\n          \"Rx\",\n          \"Rx/OTC\",\n          \"OTC\"\n        ],\n        \"semantic_type\": \"\",\n        \"description\": \"\"\n      }\n    },\n    {\n      \"column\": \"pregnancy_category\",\n      \"properties\": {\n        \"dtype\": \"category\",\n        \"num_unique_values\": 6,\n        \"samples\": [\n          \"D\",\n          \"C\",\n          \"A\"\n        ],\n        \"semantic_type\": \"\",\n        \"description\": \"\"\n      }\n    },\n    {\n      \"column\": \"csa\",\n      \"properties\": {\n        \"dtype\": \"category\",\n        \"num_unique_values\": 7,\n        \"samples\": [\n          \"N\",\n          \"2\",\n          \"5\"\n        ],\n        \"semantic_type\": \"\",\n        \"description\": \"\"\n      }\n    },\n    {\n      \"column\": \"alcohol\",\n      \"properties\": {\n        \"dtype\": \"category\",\n        \"num_unique_values\": 1,\n        \"samples\": [\n          \"X\"\n        ],\n        \"semantic_type\": \"\",\n        \"description\": \"\"\n      }\n    },\n    {\n      \"column\": \"related_drugs\",\n      \"properties\": {\n        \"dtype\": \"category\",\n        \"num_unique_values\": 535,\n        \"samples\": [\n          \"theophylline: https://www.drugs.com/mtm/theophylline.html | caffeine: https://www.drugs.com/caffeine.html | aminophylline: https://www.drugs.com/mtm/aminophylline-injection.html | Theo-24: https://www.drugs.com/mtm/theo-24.html | Elixophyllin: https://www.drugs.com/mtm/elixophyllin.html | Theo-Dur: https://www.drugs.com/cons/theo-dur.html | Vivarin: https://www.drugs.com/mtm/vivarin.html | Cafcit: https://www.drugs.com/mtm/cafcit-injection-oral-liquid.html | NoDoz: https://www.drugs.com/mtm/no-doz.html\"\n        ],\n        \"semantic_type\": \"\",\n        \"description\": \"\"\n      }\n    },\n    {\n      \"column\": \"medical_condition_description\",\n      \"properties\": {\n        \"dtype\": \"category\",\n        \"num_unique_values\": 47,\n        \"samples\": [\n          \"Herpes Simplex An infection caused by herpes viruses 1 or 2 -- which primarily affects the mouth or genital area. Drugs used for Herpes Simplex The following list of medications are in some way related to or used in the treatment of this condition. Select drug class All drug classes Topical anti-infectives (2) Miscellaneous topical agents (2) Purine nucleosides (3) Topical antivirals (3) Show Hide filters Filter Brands and Generics Brands and generics Brands Generics Include off-label drugs Include off-label drugs Approved Off-label Rx and OTC Rx and OTC Rx OTC Drug name Rating Reviews Activity &quest; Rx/OTC Preg nancy CSA Alcohol Expand current row for information about acyclovir acyclovir 8.0 94 reviews Rx B N Generic name: acyclovir systemic Brand name: Zovirax Drug class: purine nucleosides For consumers: dosage , interactions , side effects For professionals: AHFS DI Monograph , Prescribing Information Expand current row for information about valacyclovir valacyclovir 5.8 9 reviews Rx B N Generic name: valacyclovir systemic Drug class: purine nucleosides For consumers: dosage , interactions , side effects For professionals: AHFS DI Monograph , Prescribing Information Expand current row for information about Zovirax Cream Zovirax Cream 9.3 4 reviews Rx B N Generic name: acyclovir topical Drug class: topical antivirals For consumers: dosage , interactions , side effects For professionals: Prescribing Information Expand current row for information about Abreva Abreva 4.5 422 reviews OTC N N Generic name: docosanol topical Drug class: topical anti-infectives For consumers: dosage , side effects Expand current row for information about acyclovir acyclovir 8.6 14 reviews Rx B N Generic name: acyclovir topical Brand names: Zovirax Cream, Zovirax Ointment Drug class: topical antivirals For consumers: dosage , interactions , side effects For professionals: AHFS DI Monograph , Prescribing Information Expand current row for information about Zovirax Ointment Zovirax Ointment 8.7 3 reviews Rx B N Generic name: acyclovir topical Drug class: topical antivirals For consumers: dosage , interactions , side effects For professionals: Prescribing Information Expand current row for information about Zovirax Zovirax 7.4 7 reviews Rx B N Generic name: acyclovir systemic Drug class: purine nucleosides For consumers: dosage , interactions , side effects For professionals: Prescribing Information Expand current row for information about docosanol docosanol 4.6 433 reviews OTC N N Generic name: docosanol topical Brand name: Abreva Drug class: topical anti-infectives For consumers: dosage , side effects For professionals: AHFS DI Monograph Expand current row for information about Blistex Ointment Blistex Ointment 10 1 review OTC N N Generic name: allantoin / camphor / phenol topical Drug class: miscellaneous topical agents For consumers: side effects Expand current row for information about allantoin / camphor / phenol allantoin / camphor / phenol 10 1 review OTC N N Generic name: allantoin / camphor / phenol topical Brand name: Blistex Ointment Drug class: miscellaneous topical agents For consumers: side effects Frequently asked questions If you have the herpes simplex outbreaks, what dosage of lysine do you recommend? Topics under Herpes Simplex Cold Sores (18 drugs) Herpes Simplex - Congenital (2 drugs) Herpes Simplex, Mucocutaneous/Immunocompetent Host (4 drugs) Herpes Simplex, Mucocutaneous/Immunocompromised Host (6 drugs) Herpes Simplex, Suppression (5 drugs) Alternative treatments for Herpes Simplex The following products are considered to be alternative treatments or natural remedies for Herpes Simplex. Their efficacy may not have been scientifically tested to the same degree as the drugs listed in the table above. However there may be historical, cultural or anecdotal evidence linking their use to the treatment of Herpes Simplex. Lysine Learn more about Herpes Simplex Drug Treatment of HIV and AIDS Complications Care guides Herpes Simplex Care Notes Symptoms and treatments Herpes Simplex Health Guide Medicine.com guides (external) Herpes Simplex Guide Legend Rating For ratings, users were asked how effective they found the medicine while considering positive/adverse effects and ease of use (1 = not effective, 10 = most effective). Activity Activity is based on recent site visitor activity relative to other medications in the list. Rx Prescription only. OTC Over-the-counter. Rx/OTC Prescription or Over-the-counter. Off-label This medication may not be approved by the FDA for the treatment of this condition. EUA An Emergency Use Authorization (EUA) allows the FDA to authorize unapproved medical products or unapproved uses of approved medical products to be used in a declared public health emergency when there are no adequate, approved, and available alternatives. Pregnancy Category A Adequate and well-controlled studies have failed to demonstrate a risk to the fetus in the first trimester of pregnancy (and there is no evidence of risk in later trimesters). B Animal reproduction studies have failed to demonstrate a risk to the fetus and there are no adequate and well-controlled studies in pregnant women. C Animal reproduction studies have shown an adverse effect on the fetus and there are no adequate and well-controlled studies in humans, but potential benefits may warrant use in pregnant women despite potential risks. D There is positive evidence of human fetal risk based on adverse reaction data from investigational or marketing experience or studies in humans, but potential benefits may warrant use in pregnant women despite potential risks. X Studies in animals or humans have demonstrated fetal abnormalities and/or there is positive evidence of human fetal risk based on adverse reaction data from investigational or marketing experience, and the risks involved in use in pregnant women clearly outweigh potential benefits. N FDA has not classified the drug. Controlled Substances Act (CSA) Schedule M The drug has multiple schedules. The schedule may depend on the exact dosage form or strength of the medication. U CSA Schedule is unknown. N Is not subject to the Controlled Substances Act. 1 Has a high potential for abuse. Has no currently accepted medical use in treatment in the United States. There is a lack of accepted safety for use under medical supervision. 2 Has a high potential for abuse. Has a currently accepted medical use in treatment in the United States or a currently accepted medical use with severe restrictions. Abuse may lead to severe psychological or physical dependence. 3 Has a potential for abuse less than those in schedules 1 and 2. Has a currently accepted medical use in treatment in the United States. Abuse may lead to moderate or low physical dependence or high psychological dependence. 4 Has a low potential for abuse relative to those in schedule 3. It has a currently accepted medical use in treatment in the United States. Abuse may lead to limited physical dependence or psychological dependence relative to those in schedule 3. 5 Has a low potential for abuse relative to those in schedule 4. Has a currently accepted medical use in treatment in the United States. Abuse may lead to limited physical dependence or psychological dependence relative to those in schedule 4. Alcohol X Interacts with Alcohol. Browse treatment options A B C D E F G H I J K L M N O P Q R S T U V W X Y Z Further information Always consult your healthcare provider to ensure the information displayed on this page applies to your personal circumstances. Medical Disclaimer\"\n        ],\n        \"semantic_type\": \"\",\n        \"description\": \"\"\n      }\n    },\n    {\n      \"column\": \"rating\",\n      \"properties\": {\n        \"dtype\": \"number\",\n        \"std\": 2.313044210016181,\n        \"min\": 0.0,\n        \"max\": 10.0,\n        \"num_unique_values\": 86,\n        \"samples\": [\n          2.3\n        ],\n        \"semantic_type\": \"\",\n        \"description\": \"\"\n      }\n    },\n    {\n      \"column\": \"no_of_reviews\",\n      \"properties\": {\n        \"dtype\": \"number\",\n        \"std\": 184.9008470086279,\n        \"min\": 1.0,\n        \"max\": 2934.0,\n        \"num_unique_values\": 301,\n        \"samples\": [\n          612.0\n        ],\n        \"semantic_type\": \"\",\n        \"description\": \"\"\n      }\n    },\n    {\n      \"column\": \"drug_link\",\n      \"properties\": {\n        \"dtype\": \"string\",\n        \"num_unique_values\": 2931,\n        \"samples\": [\n          \"https://www.drugs.com/mtm/synjardy-xr.html\"\n        ],\n        \"semantic_type\": \"\",\n        \"description\": \"\"\n      }\n    },\n    {\n      \"column\": \"medical_condition_url\",\n      \"properties\": {\n        \"dtype\": \"category\",\n        \"num_unique_values\": 47,\n        \"samples\": [\n          \"https://www.drugs.com/condition/herpes-simplex.html\"\n        ],\n        \"semantic_type\": \"\",\n        \"description\": \"\"\n      }\n    }\n  ]\n}"
            }
          },
          "metadata": {},
          "execution_count": 12
        }
      ]
    },
    {
      "cell_type": "code",
      "source": [
        "# Dropping the 'brand_names' column and delete from dataset\n",
        "data.drop(columns=['brand_names'], inplace=True)"
      ],
      "metadata": {
        "id": "pwR5c9RUZWt_"
      },
      "execution_count": null,
      "outputs": []
    },
    {
      "cell_type": "code",
      "source": [
        "# Find duplicate rows based on all columns\n",
        "duplicate_rows= data[data.duplicated()]"
      ],
      "metadata": {
        "id": "o_XTG62hZa58"
      },
      "execution_count": null,
      "outputs": []
    },
    {
      "cell_type": "code",
      "source": [
        "#Count the duplicated rows\n",
        "duplicate_count = duplicate_rows.shape[0]"
      ],
      "metadata": {
        "id": "s3JWqNErZfo_"
      },
      "execution_count": null,
      "outputs": []
    },
    {
      "cell_type": "code",
      "source": [
        "# Print the count of duplicate rows\n",
        "print(\"Count of Duplicate Rows:\", duplicate_count)\n",
        "print(duplicate_rows) # Print the duplicate rows"
      ],
      "metadata": {
        "colab": {
          "base_uri": "https://localhost:8080/"
        },
        "id": "DwCvpOdQZk6_",
        "outputId": "f1a4b29f-26f9-4aa2-f474-5cfe09f51fae"
      },
      "execution_count": null,
      "outputs": [
        {
          "output_type": "stream",
          "name": "stdout",
          "text": [
            "Count of Duplicate Rows: 0\n",
            "Empty DataFrame\n",
            "Columns: [drug_name, medical_condition, side_effects, generic_name, drug_classes, activity, rx_otc, pregnancy_category, csa, alcohol, related_drugs, medical_condition_description, rating, no_of_reviews, drug_link, medical_condition_url]\n",
            "Index: []\n"
          ]
        }
      ]
    },
    {
      "cell_type": "code",
      "source": [
        "Columns = [\n",
        "    \"drug_name\",\n",
        "    \"medical_condition\",\n",
        "    \"side_effects\",\n",
        "    \"generic_name\",\n",
        "    \"drug_classes\",\n",
        "    \"activity\",\n",
        "    \"rx_otc\",\n",
        "    \"pregnancy_category\",\n",
        "    \"csa\",\n",
        "    \"alcohol\",\n",
        "    \"related_drugs\",\n",
        "    \"medical_condition_description\",\n",
        "    \"rating\",\n",
        "    \"no_of_reviews\",\n",
        "    \"drug_link\",\n",
        "    \"medical_condition_url\",\n",
        "]\n",
        "# The code above defines a list named 'Columns' which contains the column names as strings.\n",
        "# The previous version had syntax errors with unmatched brackets and incomplete list definitions.\n",
        "# This revised version creates a single, properly formatted list."
      ],
      "metadata": {
        "id": "8RuNWnF-awou"
      },
      "execution_count": null,
      "outputs": []
    },
    {
      "cell_type": "code",
      "source": [
        "# Convert 'rating' and 'no_of_reviews' attributes to numeric\n",
        "data['rating'] = pd.to_numeric(data['rating'], errors='coerce')"
      ],
      "metadata": {
        "id": "rgidLkX-a5jB"
      },
      "execution_count": null,
      "outputs": []
    },
    {
      "cell_type": "code",
      "source": [
        "# data['no_of_reviews'] = pd.to_numeric(data['no_of_reviews'],errors='coerce')\n",
        "\n",
        "print(data.dtypes.value_counts())"
      ],
      "metadata": {
        "colab": {
          "base_uri": "https://localhost:8080/"
        },
        "id": "x0nNkVCQa_BS",
        "outputId": "f39d79b6-898d-448f-f6ad-0c13158645e2"
      },
      "execution_count": null,
      "outputs": [
        {
          "output_type": "stream",
          "name": "stdout",
          "text": [
            "object     14\n",
            "float64     2\n",
            "Name: count, dtype: int64\n"
          ]
        }
      ]
    },
    {
      "cell_type": "code",
      "source": [
        "# Convert 'activity' to string, remove whitespace and '%'\n",
        "#character, then convert to float and divide by 100\n",
        "data['activity'] = data['activity'].astype(str).str.replace(r'\\s+', '',\n",
        "regex=True).str.rstrip('%').astype('float')/100"
      ],
      "metadata": {
        "id": "ldr3gA7md1Z6"
      },
      "execution_count": null,
      "outputs": []
    },
    {
      "cell_type": "code",
      "source": [
        "# Display the updated 'activity' column\n",
        "print(data['activity'].head())"
      ],
      "metadata": {
        "colab": {
          "base_uri": "https://localhost:8080/"
        },
        "id": "_eRd80L_ehJs",
        "outputId": "b7c8132b-86c7-4dc9-9ee9-be8c676d800b"
      },
      "execution_count": null,
      "outputs": [
        {
          "output_type": "stream",
          "name": "stdout",
          "text": [
            "0    0.87\n",
            "1    0.82\n",
            "2    0.48\n",
            "3    0.41\n",
            "4    0.39\n",
            "Name: activity, dtype: float64\n"
          ]
        }
      ]
    },
    {
      "cell_type": "code",
      "source": [
        "# Print the total number of missing values\n",
        "print(\"There are {} missing values in this dataset\".format(data.isnull().sum().sum()))\n",
        "\n",
        "print('Number of instances = %d' % (data.shape[0]))\n",
        "print('Number of attributes = %d' % (data.shape[1]))\n",
        "print('Number of missing values:')\n",
        "for col in data.columns:\n",
        "  print('\\t%s: %d' % (col,data[col].isna().sum()))"
      ],
      "metadata": {
        "colab": {
          "base_uri": "https://localhost:8080/"
        },
        "id": "rg9EpysOevYG",
        "outputId": "b66e5781-d6e0-4300-f413-3f29bafe89df"
      },
      "execution_count": null,
      "outputs": [
        {
          "output_type": "stream",
          "name": "stdout",
          "text": [
            "There are 6192 missing values in this dataset\n",
            "Number of instances = 2931\n",
            "Number of attributes = 16\n",
            "Number of missing values:\n",
            "\tdrug_name: 0\n",
            "\tmedical_condition: 0\n",
            "\tside_effects: 124\n",
            "\tgeneric_name: 43\n",
            "\tdrug_classes: 82\n",
            "\tactivity: 0\n",
            "\trx_otc: 1\n",
            "\tpregnancy_category: 229\n",
            "\tcsa: 0\n",
            "\talcohol: 1554\n",
            "\trelated_drugs: 1469\n",
            "\tmedical_condition_description: 0\n",
            "\trating: 1345\n",
            "\tno_of_reviews: 1345\n",
            "\tdrug_link: 0\n",
            "\tmedical_condition_url: 0\n"
          ]
        }
      ]
    },
    {
      "cell_type": "code",
      "source": [
        "# In the alcohol column we have X and null(NaN) values, becausethe drug can interact with alcohol or not.\n",
        "# Therefore, let's replace the values of ak=lcohol column withboolean values.\n",
        "# Let X will be 1 of interaction, NaN will be 0.\n",
        "data['alcohol']= data['alcohol'].replace(np.nan,'0') # Changed np.NaN to np.nan\n",
        "data['alcohol']=data['alcohol'].replace({'X': 1})"
      ],
      "metadata": {
        "id": "nwGn_7FWhSwy"
      },
      "execution_count": null,
      "outputs": []
    },
    {
      "cell_type": "code",
      "source": [
        "# To avoid missing values let's fill them with some information\n",
        "# In our case we will replace all them\n",
        "# Fill the null values in 'side_effects' and 'related_drugs'with no\n",
        "\n",
        "data[\"side_effects\"] = data['side_effects'].fillna('Unknown')\n",
        "data[\"related_drugs\"] = data['related_drugs'].fillna('Unknown')"
      ],
      "metadata": {
        "id": "TXkT3RJihik1"
      },
      "execution_count": null,
      "outputs": []
    },
    {
      "cell_type": "code",
      "source": [
        "# Fill the null values with 0 as a base for 'rating' and'no_of_reviews' columns\n",
        "\n",
        "# It will show that there are no information about it\n",
        "\n",
        "data[\"rating\"] = data['rating'].fillna('0')\n",
        "data[\"no_of_reviews\"] = data['no_of_reviews'].fillna('0')"
      ],
      "metadata": {
        "id": "5drXq_PLh3ws"
      },
      "execution_count": null,
      "outputs": []
    },
    {
      "cell_type": "code",
      "source": [
        "# Fill the null values with ?\n",
        "data['generic_name'] = data['generic_name'].replace(np.nan, 'Unknown') # Changed np.NaN to np.nan"
      ],
      "metadata": {
        "id": "uc6IO4ytiWk_"
      },
      "execution_count": null,
      "outputs": []
    },
    {
      "cell_type": "code",
      "source": [
        "# Fill the null values with undefined for 'drug_classes'\n",
        "data['drug_classes']=data['drug_classes'].replace(np.nan,'Unknown')"
      ],
      "metadata": {
        "id": "hs29e-qqizIl"
      },
      "execution_count": null,
      "outputs": []
    },
    {
      "cell_type": "code",
      "source": [
        "# For these two columns we already have some category values\n",
        "#from dataset's description\n",
        "# So, let's check the categorical values\n",
        "\n",
        "# For Rx_OTC\n",
        "data[\"rx_otc\"].unique()"
      ],
      "metadata": {
        "colab": {
          "base_uri": "https://localhost:8080/"
        },
        "id": "sJJTHBXAjHxd",
        "outputId": "92008d61-dbd4-4495-ab39-5321a332c048"
      },
      "execution_count": null,
      "outputs": [
        {
          "output_type": "execute_result",
          "data": {
            "text/plain": [
              "array(['Rx', 'Rx/OTC', 'OTC', nan], dtype=object)"
            ]
          },
          "metadata": {},
          "execution_count": 28
        }
      ]
    },
    {
      "cell_type": "code",
      "source": [
        "import numpy as np # Import the numpy library\n",
        "\n",
        "# For these two columns we already have some category values\n",
        "#from dataset's description\n",
        "# So, let's check the categorical values\n",
        "\n",
        "# For Rx_OTC\n",
        "print(np.array(['Rx', 'Rx/OTC', 'OTC', np.nan], dtype=object)) # Use np.array and np.nan"
      ],
      "metadata": {
        "colab": {
          "base_uri": "https://localhost:8080/"
        },
        "id": "TVc5zuV_5Htm",
        "outputId": "9effd5c7-9d02-456f-e64a-ec2cb8467883"
      },
      "execution_count": null,
      "outputs": [
        {
          "output_type": "stream",
          "name": "stdout",
          "text": [
            "['Rx' 'Rx/OTC' 'OTC' nan]\n"
          ]
        }
      ]
    },
    {
      "cell_type": "code",
      "source": [
        "# For pregnancy categories\n",
        "data[\"pregnancy_category\"].unique()"
      ],
      "metadata": {
        "colab": {
          "base_uri": "https://localhost:8080/"
        },
        "id": "SDwFOSUj9NhD",
        "outputId": "bafdf0b5-b079-4276-e6d9-9f439ba78770"
      },
      "execution_count": null,
      "outputs": [
        {
          "output_type": "execute_result",
          "data": {
            "text/plain": [
              "array(['D', 'C', 'X', 'B', 'N', nan, 'A'], dtype=object)"
            ]
          },
          "metadata": {},
          "execution_count": 30
        }
      ]
    },
    {
      "cell_type": "code",
      "source": [
        "# For pregnancy categories\n",
        "data[\"pregnancy_category\"].unique()"
      ],
      "metadata": {
        "colab": {
          "base_uri": "https://localhost:8080/"
        },
        "id": "AayYh5ci9u-3",
        "outputId": "6874a38c-9199-4969-9eb4-8cc46ebcf40f"
      },
      "execution_count": null,
      "outputs": [
        {
          "output_type": "execute_result",
          "data": {
            "text/plain": [
              "array(['D', 'C', 'X', 'B', 'N', nan, 'A'], dtype=object)"
            ]
          },
          "metadata": {},
          "execution_count": 31
        }
      ]
    },
    {
      "cell_type": "code",
      "source": [
        "# Fill the null value with Unknown as a basic value\n",
        "\n",
        "data['rx_otc']=data['rx_otc'].replace(np.nan, 'Unknown')"
      ],
      "metadata": {
        "id": "ZM5WhXXy9z8J"
      },
      "execution_count": null,
      "outputs": []
    },
    {
      "cell_type": "code",
      "source": [
        "# Fill the null value with Unknown as a basic value\n",
        "\n",
        "data['pregnancy_category']=data['pregnancy_category'].replace(np.nan, 'Unknown')\n",
        "data['no_of_reviews'] = pd.to_numeric(data['no_of_reviews'],errors='coerce')\n",
        "print(data.head())\n",
        "dfs=data.copy()"
      ],
      "metadata": {
        "colab": {
          "base_uri": "https://localhost:8080/"
        },
        "id": "TQIwNuLM98pG",
        "outputId": "0d7ce890-39b9-43e2-bfd3-8ff82101e131"
      },
      "execution_count": null,
      "outputs": [
        {
          "output_type": "stream",
          "name": "stdout",
          "text": [
            "        drug_name medical_condition  \\\n",
            "0     doxycycline              Acne   \n",
            "1  spironolactone              Acne   \n",
            "2     minocycline              Acne   \n",
            "3        Accutane              Acne   \n",
            "4     clindamycin              Acne   \n",
            "\n",
            "                                        side_effects         generic_name  \\\n",
            "0  (hives, difficult breathing, swelling in your ...          doxycycline   \n",
            "1  hives ; difficulty breathing; swelling of your...       spironolactone   \n",
            "2  skin rash, fever, swollen glands, flu-like sym...          minocycline   \n",
            "3  problems with your vision or hearing; muscle o...  isotretinoin (oral)   \n",
            "4  hives ; difficult breathing; swelling of your ...  clindamycin topical   \n",
            "\n",
            "                                        drug_classes  activity rx_otc  \\\n",
            "0         Miscellaneous antimalarials, Tetracyclines      0.87     Rx   \n",
            "1  Aldosterone receptor antagonists, Potassium-sp...      0.82     Rx   \n",
            "2                                      Tetracyclines      0.48     Rx   \n",
            "3  Miscellaneous antineoplastics, Miscellaneous u...      0.41     Rx   \n",
            "4       Topical acne agents, Vaginal anti-infectives      0.39     Rx   \n",
            "\n",
            "  pregnancy_category csa alcohol  \\\n",
            "0                  D   N       1   \n",
            "1                  C   N       1   \n",
            "2                  D   N       0   \n",
            "3                  X   N       1   \n",
            "4                  B   N       0   \n",
            "\n",
            "                                       related_drugs  \\\n",
            "0  amoxicillin: https://www.drugs.com/amoxicillin...   \n",
            "1  amlodipine: https://www.drugs.com/amlodipine.h...   \n",
            "2  amoxicillin: https://www.drugs.com/amoxicillin...   \n",
            "3  doxycycline: https://www.drugs.com/doxycycline...   \n",
            "4  doxycycline: https://www.drugs.com/doxycycline...   \n",
            "\n",
            "                       medical_condition_description rating  no_of_reviews  \\\n",
            "0  Acne Other names: Acne Vulgaris; Blackheads; B...    6.8          760.0   \n",
            "1  Acne Other names: Acne Vulgaris; Blackheads; B...    7.2          449.0   \n",
            "2  Acne Other names: Acne Vulgaris; Blackheads; B...    5.7          482.0   \n",
            "3  Acne Other names: Acne Vulgaris; Blackheads; B...    7.9          623.0   \n",
            "4  Acne Other names: Acne Vulgaris; Blackheads; B...    7.4          146.0   \n",
            "\n",
            "                                           drug_link  \\\n",
            "0             https://www.drugs.com/doxycycline.html   \n",
            "1          https://www.drugs.com/spironolactone.html   \n",
            "2             https://www.drugs.com/minocycline.html   \n",
            "3                https://www.drugs.com/accutane.html   \n",
            "4  https://www.drugs.com/mtm/clindamycin-topical....   \n",
            "\n",
            "                       medical_condition_url  \n",
            "0  https://www.drugs.com/condition/acne.html  \n",
            "1  https://www.drugs.com/condition/acne.html  \n",
            "2  https://www.drugs.com/condition/acne.html  \n",
            "3  https://www.drugs.com/condition/acne.html  \n",
            "4  https://www.drugs.com/condition/acne.html  \n"
          ]
        }
      ]
    },
    {
      "cell_type": "code",
      "source": [
        "dfs=data.copy()"
      ],
      "metadata": {
        "id": "8OYD2Ixq_e-i"
      },
      "execution_count": null,
      "outputs": []
    },
    {
      "cell_type": "code",
      "source": [
        "# Let's check is there any missing values left\n",
        "print(\"There are {} missing values in this dataset\".format(data.isnull().sum().sum()))\n",
        "print('Number of instances = %d' % (data.shape[0]))\n",
        "print('Number of attributes = %d' % (data.shape[1]))\n",
        "print('Number of missing values:')\n",
        "for col in data.columns:\n",
        "  print('\\t%s: %d' % (col,data[col].isna().sum()))"
      ],
      "metadata": {
        "colab": {
          "base_uri": "https://localhost:8080/"
        },
        "id": "YjBwB9aY_v1a",
        "outputId": "8ce30c37-d684-4a1e-97f6-d5a04e644582"
      },
      "execution_count": null,
      "outputs": [
        {
          "output_type": "stream",
          "name": "stdout",
          "text": [
            "There are 0 missing values in this dataset\n",
            "Number of instances = 2931\n",
            "Number of attributes = 16\n",
            "Number of missing values:\n",
            "\tdrug_name: 0\n",
            "\tmedical_condition: 0\n",
            "\tside_effects: 0\n",
            "\tgeneric_name: 0\n",
            "\tdrug_classes: 0\n",
            "\tactivity: 0\n",
            "\trx_otc: 0\n",
            "\tpregnancy_category: 0\n",
            "\tcsa: 0\n",
            "\talcohol: 0\n",
            "\trelated_drugs: 0\n",
            "\tmedical_condition_description: 0\n",
            "\trating: 0\n",
            "\tno_of_reviews: 0\n",
            "\tdrug_link: 0\n",
            "\tmedical_condition_url: 0\n"
          ]
        }
      ]
    },
    {
      "cell_type": "code",
      "source": [
        "data_version2=data.copy()\n",
        "\n",
        "print(data_version2.head())"
      ],
      "metadata": {
        "colab": {
          "base_uri": "https://localhost:8080/"
        },
        "id": "Kaq6o5Ip_-5_",
        "outputId": "4523b64a-f61a-4806-cfcf-70556c634e9a"
      },
      "execution_count": null,
      "outputs": [
        {
          "output_type": "stream",
          "name": "stdout",
          "text": [
            "        drug_name medical_condition  \\\n",
            "0     doxycycline              Acne   \n",
            "1  spironolactone              Acne   \n",
            "2     minocycline              Acne   \n",
            "3        Accutane              Acne   \n",
            "4     clindamycin              Acne   \n",
            "\n",
            "                                        side_effects         generic_name  \\\n",
            "0  (hives, difficult breathing, swelling in your ...          doxycycline   \n",
            "1  hives ; difficulty breathing; swelling of your...       spironolactone   \n",
            "2  skin rash, fever, swollen glands, flu-like sym...          minocycline   \n",
            "3  problems with your vision or hearing; muscle o...  isotretinoin (oral)   \n",
            "4  hives ; difficult breathing; swelling of your ...  clindamycin topical   \n",
            "\n",
            "                                        drug_classes  activity rx_otc  \\\n",
            "0         Miscellaneous antimalarials, Tetracyclines      0.87     Rx   \n",
            "1  Aldosterone receptor antagonists, Potassium-sp...      0.82     Rx   \n",
            "2                                      Tetracyclines      0.48     Rx   \n",
            "3  Miscellaneous antineoplastics, Miscellaneous u...      0.41     Rx   \n",
            "4       Topical acne agents, Vaginal anti-infectives      0.39     Rx   \n",
            "\n",
            "  pregnancy_category csa alcohol  \\\n",
            "0                  D   N       1   \n",
            "1                  C   N       1   \n",
            "2                  D   N       0   \n",
            "3                  X   N       1   \n",
            "4                  B   N       0   \n",
            "\n",
            "                                       related_drugs  \\\n",
            "0  amoxicillin: https://www.drugs.com/amoxicillin...   \n",
            "1  amlodipine: https://www.drugs.com/amlodipine.h...   \n",
            "2  amoxicillin: https://www.drugs.com/amoxicillin...   \n",
            "3  doxycycline: https://www.drugs.com/doxycycline...   \n",
            "4  doxycycline: https://www.drugs.com/doxycycline...   \n",
            "\n",
            "                       medical_condition_description rating  no_of_reviews  \\\n",
            "0  Acne Other names: Acne Vulgaris; Blackheads; B...    6.8          760.0   \n",
            "1  Acne Other names: Acne Vulgaris; Blackheads; B...    7.2          449.0   \n",
            "2  Acne Other names: Acne Vulgaris; Blackheads; B...    5.7          482.0   \n",
            "3  Acne Other names: Acne Vulgaris; Blackheads; B...    7.9          623.0   \n",
            "4  Acne Other names: Acne Vulgaris; Blackheads; B...    7.4          146.0   \n",
            "\n",
            "                                           drug_link  \\\n",
            "0             https://www.drugs.com/doxycycline.html   \n",
            "1          https://www.drugs.com/spironolactone.html   \n",
            "2             https://www.drugs.com/minocycline.html   \n",
            "3                https://www.drugs.com/accutane.html   \n",
            "4  https://www.drugs.com/mtm/clindamycin-topical....   \n",
            "\n",
            "                       medical_condition_url  \n",
            "0  https://www.drugs.com/condition/acne.html  \n",
            "1  https://www.drugs.com/condition/acne.html  \n",
            "2  https://www.drugs.com/condition/acne.html  \n",
            "3  https://www.drugs.com/condition/acne.html  \n",
            "4  https://www.drugs.com/condition/acne.html  \n"
          ]
        }
      ]
    },
    {
      "cell_type": "code",
      "source": [
        "# Print head of dataset to our che"
      ],
      "metadata": {
        "id": "V8jVXuh9AGSo"
      },
      "execution_count": null,
      "outputs": []
    },
    {
      "cell_type": "code",
      "source": [
        "# Save the data\n",
        "data_version2.to_csv('drugs_side_effects_drugs_com_version2.csv', index=False)"
      ],
      "metadata": {
        "id": "AybDhSNWAVhQ"
      },
      "execution_count": null,
      "outputs": []
    },
    {
      "cell_type": "code",
      "source": [
        "# Read the new version dataset\n",
        "\n",
        "data_ver3=pd.read_csv('drugs_side_effects_drugs_com_version2.csv')\n",
        "\n",
        "data_ver3[\"pregnancy_category\"].unique()"
      ],
      "metadata": {
        "colab": {
          "base_uri": "https://localhost:8080/"
        },
        "id": "rbS0NHs4AiiB",
        "outputId": "9a74f2ae-60ca-436c-e6d1-36d2c5741230"
      },
      "execution_count": null,
      "outputs": [
        {
          "output_type": "execute_result",
          "data": {
            "text/plain": [
              "array(['D', 'C', 'X', 'B', 'N', 'Unknown', 'A'], dtype=object)"
            ]
          },
          "metadata": {},
          "execution_count": 39
        }
      ]
    },
    {
      "cell_type": "code",
      "source": [
        "data_ver3[\"csa\"].unique()"
      ],
      "metadata": {
        "colab": {
          "base_uri": "https://localhost:8080/"
        },
        "id": "LV3Uoj2BA36a",
        "outputId": "8e4bd006-3985-4763-e632-a137799045c8"
      },
      "execution_count": null,
      "outputs": [
        {
          "output_type": "execute_result",
          "data": {
            "text/plain": [
              "array(['N', '2', '4', 'U', 'M', '5', '3'], dtype=object)"
            ]
          },
          "metadata": {},
          "execution_count": 40
        }
      ]
    },
    {
      "cell_type": "code",
      "source": [
        "data_ver3[\"rx_otc\"].unique()"
      ],
      "metadata": {
        "colab": {
          "base_uri": "https://localhost:8080/"
        },
        "id": "1hdXM7f5A7vS",
        "outputId": "aff75460-71e1-4cf7-bbd8-0adf7605e65e"
      },
      "execution_count": null,
      "outputs": [
        {
          "output_type": "execute_result",
          "data": {
            "text/plain": [
              "array(['Rx', 'Rx/OTC', 'OTC', 'Unknown'], dtype=object)"
            ]
          },
          "metadata": {},
          "execution_count": 41
        }
      ]
    },
    {
      "cell_type": "code",
      "source": [
        "data_ver3[\"generic_name\"].unique()"
      ],
      "metadata": {
        "colab": {
          "base_uri": "https://localhost:8080/"
        },
        "id": "cA-iF1nHBA4H",
        "outputId": "310ec39e-bc8d-40d2-9336-e1f444a1374b"
      },
      "execution_count": null,
      "outputs": [
        {
          "output_type": "execute_result",
          "data": {
            "text/plain": [
              "array(['doxycycline', 'spironolactone', 'minocycline', ...,\n",
              "       'fenfluramine', 'phendimetrazine tartrate', 'setmelanotide'],\n",
              "      dtype=object)"
            ]
          },
          "metadata": {},
          "execution_count": 42
        }
      ]
    },
    {
      "cell_type": "code",
      "source": [
        "data_ver3[\"medical_condition\"].unique()"
      ],
      "metadata": {
        "colab": {
          "base_uri": "https://localhost:8080/"
        },
        "id": "HWocAdZgBFYg",
        "outputId": "dd1beaf9-e98d-43ee-eb61-3790b6527f05"
      },
      "execution_count": null,
      "outputs": [
        {
          "output_type": "execute_result",
          "data": {
            "text/plain": [
              "array(['Acne', 'ADHD', 'AIDS/HIV', 'Allergies', \"Alzheimer's\", 'Angina',\n",
              "       'Anxiety', 'Asthma', 'Bipolar Disorder', 'Bronchitis', 'Cancer',\n",
              "       'Cholesterol', 'Colds & Flu', 'Constipation', 'COPD', 'Covid 19',\n",
              "       'Depression', 'Diabetes (Type 1)', 'Diabetes (Type 2)', 'Diarrhea',\n",
              "       'Eczema', 'Erectile Dysfunction', 'Gastrointestinal',\n",
              "       'GERD (Heartburn)', 'Gout', 'Hair Loss', 'Hayfever', 'Herpes',\n",
              "       'Hypertension', 'Hypothyroidism', 'IBD (Bowel)', 'Incontinence',\n",
              "       'Insomnia', 'Menopause', 'Migraine', 'Osteoarthritis',\n",
              "       'Osteoporosis', 'Pain', 'Pneumonia', 'Psoriasis',\n",
              "       'Rheumatoid Arthritis', 'Schizophrenia', 'Seizures', 'Stroke',\n",
              "       'Swine Flu', 'UTI', 'Weight Loss'], dtype=object)"
            ]
          },
          "metadata": {},
          "execution_count": 43
        }
      ]
    },
    {
      "cell_type": "code",
      "source": [
        "from sklearn.preprocessing import LabelEncoder\n",
        "label_encoder = LabelEncoder()\n",
        "data_ver3[\"csa\"]=label_encoder.fit_transform(data_ver3[\"csa\"])\n",
        "data_ver3[\"rx_otc\"]=label_encoder.fit_transform(data_ver3[\"rx_otc\"])\n",
        "data_ver3[\"generic_name\"] =label_encoder.fit_transform(data_ver3[\"generic_name\"])\n",
        "data_ver3[\"medical_condition\"] =label_encoder.fit_transform(data_ver3[\"medical_condition\"])\n",
        "data_ver3[\"pregnancy_category\"] =label_encoder.fit_transform(data_ver3[\"pregnancy_category\"])\n",
        "data_ver3[\"side_effects\"] =label_encoder.fit_transform(data_ver3[\"side_effects\"])"
      ],
      "metadata": {
        "id": "gf_M1zbOBFUG"
      },
      "execution_count": null,
      "outputs": []
    },
    {
      "cell_type": "code",
      "source": [
        "data_ver3[\"generic_name\"].unique()"
      ],
      "metadata": {
        "colab": {
          "base_uri": "https://localhost:8080/"
        },
        "id": "MKNZ0GG0BfNz",
        "outputId": "9985e02d-551e-4309-d098-d49a2c233ae4"
      },
      "execution_count": null,
      "outputs": [
        {
          "output_type": "execute_result",
          "data": {
            "text/plain": [
              "array([ 642, 1270, 1034, ...,  729, 1157, 1259])"
            ]
          },
          "metadata": {},
          "execution_count": 45
        }
      ]
    },
    {
      "cell_type": "code",
      "source": [
        "data_ver3[\"rx_otc\"].unique()"
      ],
      "metadata": {
        "colab": {
          "base_uri": "https://localhost:8080/"
        },
        "id": "CeB8-SHeBkVL",
        "outputId": "cd439bb3-ee2f-48ae-e945-fc364f99ebb7"
      },
      "execution_count": null,
      "outputs": [
        {
          "output_type": "execute_result",
          "data": {
            "text/plain": [
              "array([1, 2, 0, 3])"
            ]
          },
          "metadata": {},
          "execution_count": 46
        }
      ]
    },
    {
      "cell_type": "code",
      "source": [
        "data_ver3[\"csa\"].unique()"
      ],
      "metadata": {
        "colab": {
          "base_uri": "https://localhost:8080/"
        },
        "id": "iSxnAZ2tBo66",
        "outputId": "ee239374-07fb-4003-f1c3-1f550d16c04d"
      },
      "execution_count": null,
      "outputs": [
        {
          "output_type": "execute_result",
          "data": {
            "text/plain": [
              "array([5, 0, 2, 6, 4, 3, 1])"
            ]
          },
          "metadata": {},
          "execution_count": 47
        }
      ]
    },
    {
      "cell_type": "code",
      "source": [
        "data_ver3[\"side_effects\"].unique()"
      ],
      "metadata": {
        "colab": {
          "base_uri": "https://localhost:8080/"
        },
        "id": "yeGepfWyB53Q",
        "outputId": "63207ccc-b40c-408c-9c1f-4d01eb09f037"
      },
      "execution_count": null,
      "outputs": [
        {
          "output_type": "execute_result",
          "data": {
            "text/plain": [
              "array([  15, 1972, 2697, ..., 1647,  416, 1706])"
            ]
          },
          "metadata": {},
          "execution_count": 48
        }
      ]
    },
    {
      "cell_type": "code",
      "source": [
        "data_ver3[\"medical_condition\"].unique()"
      ],
      "metadata": {
        "colab": {
          "base_uri": "https://localhost:8080/"
        },
        "id": "XFc8ZP83B5ra",
        "outputId": "2360ade5-2d9b-421d-9315-db40dbf0b401"
      },
      "execution_count": null,
      "outputs": [
        {
          "output_type": "execute_result",
          "data": {
            "text/plain": [
              "array([ 2,  0,  1,  3,  4,  5,  6,  7,  8,  9, 11, 12, 13, 14, 10, 15, 16,\n",
              "       17, 18, 19, 20, 21, 23, 22, 24, 25, 26, 27, 28, 29, 30, 31, 32, 33,\n",
              "       34, 35, 36, 37, 38, 39, 40, 41, 42, 43, 44, 45, 46])"
            ]
          },
          "metadata": {},
          "execution_count": 49
        }
      ]
    },
    {
      "cell_type": "code",
      "source": [
        "data_ver3[\"pregnancy_category\"].unique()"
      ],
      "metadata": {
        "colab": {
          "base_uri": "https://localhost:8080/"
        },
        "id": "sOXJHIy4CPUb",
        "outputId": "f1398b39-f0ee-4420-f872-c0b7c8bfee28"
      },
      "execution_count": null,
      "outputs": [
        {
          "output_type": "execute_result",
          "data": {
            "text/plain": [
              "array([3, 2, 6, 1, 4, 5, 0])"
            ]
          },
          "metadata": {},
          "execution_count": 50
        }
      ]
    },
    {
      "cell_type": "code",
      "source": [
        "df=pd.DataFrame(data_ver3,columns=('generic_name','medical_condition', 'no_of_reviews', 'side_effects', 'rating','csa', 'pregnancy_category', 'rx_otc', 'alcohol'))\n",
        "\n",
        "df.head(10)"
      ],
      "metadata": {
        "colab": {
          "base_uri": "https://localhost:8080/",
          "height": 383
        },
        "id": "bF_42LOHCUpe",
        "outputId": "9b8792ee-abf7-44ac-b495-8beddf4bf596"
      },
      "execution_count": null,
      "outputs": [
        {
          "output_type": "execute_result",
          "data": {
            "text/plain": [
              "   generic_name  medical_condition  no_of_reviews  side_effects  rating  csa  \\\n",
              "0           642                  2          760.0            15     6.8    5   \n",
              "1          1270                  2          449.0          1972     7.2    5   \n",
              "2          1034                  2          482.0          2697     5.7    5   \n",
              "3           903                  2          623.0          2570     7.9    5   \n",
              "4           505                  2          146.0          1260     7.4    5   \n",
              "5          1270                  2            8.0          1971     7.6    5   \n",
              "6          1335                  2          439.0          1895     7.7    5   \n",
              "7           903                  2          999.0          2577     8.0    5   \n",
              "8          1276                  2           96.0          2702     8.5    5   \n",
              "9           162                  2           86.0          2405     7.9    5   \n",
              "\n",
              "   pregnancy_category  rx_otc  alcohol  \n",
              "0                   3       1        1  \n",
              "1                   2       1        1  \n",
              "2                   3       1        0  \n",
              "3                   6       1        1  \n",
              "4                   1       1        0  \n",
              "5                   2       1        1  \n",
              "6                   2       1        0  \n",
              "7                   6       1        1  \n",
              "8                   3       1        1  \n",
              "9                   2       1        0  "
            ],
            "text/html": [
              "\n",
              "  <div id=\"df-55845250-2d8d-42b4-b2da-e8e76c8d06a1\" class=\"colab-df-container\">\n",
              "    <div>\n",
              "<style scoped>\n",
              "    .dataframe tbody tr th:only-of-type {\n",
              "        vertical-align: middle;\n",
              "    }\n",
              "\n",
              "    .dataframe tbody tr th {\n",
              "        vertical-align: top;\n",
              "    }\n",
              "\n",
              "    .dataframe thead th {\n",
              "        text-align: right;\n",
              "    }\n",
              "</style>\n",
              "<table border=\"1\" class=\"dataframe\">\n",
              "  <thead>\n",
              "    <tr style=\"text-align: right;\">\n",
              "      <th></th>\n",
              "      <th>generic_name</th>\n",
              "      <th>medical_condition</th>\n",
              "      <th>no_of_reviews</th>\n",
              "      <th>side_effects</th>\n",
              "      <th>rating</th>\n",
              "      <th>csa</th>\n",
              "      <th>pregnancy_category</th>\n",
              "      <th>rx_otc</th>\n",
              "      <th>alcohol</th>\n",
              "    </tr>\n",
              "  </thead>\n",
              "  <tbody>\n",
              "    <tr>\n",
              "      <th>0</th>\n",
              "      <td>642</td>\n",
              "      <td>2</td>\n",
              "      <td>760.0</td>\n",
              "      <td>15</td>\n",
              "      <td>6.8</td>\n",
              "      <td>5</td>\n",
              "      <td>3</td>\n",
              "      <td>1</td>\n",
              "      <td>1</td>\n",
              "    </tr>\n",
              "    <tr>\n",
              "      <th>1</th>\n",
              "      <td>1270</td>\n",
              "      <td>2</td>\n",
              "      <td>449.0</td>\n",
              "      <td>1972</td>\n",
              "      <td>7.2</td>\n",
              "      <td>5</td>\n",
              "      <td>2</td>\n",
              "      <td>1</td>\n",
              "      <td>1</td>\n",
              "    </tr>\n",
              "    <tr>\n",
              "      <th>2</th>\n",
              "      <td>1034</td>\n",
              "      <td>2</td>\n",
              "      <td>482.0</td>\n",
              "      <td>2697</td>\n",
              "      <td>5.7</td>\n",
              "      <td>5</td>\n",
              "      <td>3</td>\n",
              "      <td>1</td>\n",
              "      <td>0</td>\n",
              "    </tr>\n",
              "    <tr>\n",
              "      <th>3</th>\n",
              "      <td>903</td>\n",
              "      <td>2</td>\n",
              "      <td>623.0</td>\n",
              "      <td>2570</td>\n",
              "      <td>7.9</td>\n",
              "      <td>5</td>\n",
              "      <td>6</td>\n",
              "      <td>1</td>\n",
              "      <td>1</td>\n",
              "    </tr>\n",
              "    <tr>\n",
              "      <th>4</th>\n",
              "      <td>505</td>\n",
              "      <td>2</td>\n",
              "      <td>146.0</td>\n",
              "      <td>1260</td>\n",
              "      <td>7.4</td>\n",
              "      <td>5</td>\n",
              "      <td>1</td>\n",
              "      <td>1</td>\n",
              "      <td>0</td>\n",
              "    </tr>\n",
              "    <tr>\n",
              "      <th>5</th>\n",
              "      <td>1270</td>\n",
              "      <td>2</td>\n",
              "      <td>8.0</td>\n",
              "      <td>1971</td>\n",
              "      <td>7.6</td>\n",
              "      <td>5</td>\n",
              "      <td>2</td>\n",
              "      <td>1</td>\n",
              "      <td>1</td>\n",
              "    </tr>\n",
              "    <tr>\n",
              "      <th>6</th>\n",
              "      <td>1335</td>\n",
              "      <td>2</td>\n",
              "      <td>439.0</td>\n",
              "      <td>1895</td>\n",
              "      <td>7.7</td>\n",
              "      <td>5</td>\n",
              "      <td>2</td>\n",
              "      <td>1</td>\n",
              "      <td>0</td>\n",
              "    </tr>\n",
              "    <tr>\n",
              "      <th>7</th>\n",
              "      <td>903</td>\n",
              "      <td>2</td>\n",
              "      <td>999.0</td>\n",
              "      <td>2577</td>\n",
              "      <td>8.0</td>\n",
              "      <td>5</td>\n",
              "      <td>6</td>\n",
              "      <td>1</td>\n",
              "      <td>1</td>\n",
              "    </tr>\n",
              "    <tr>\n",
              "      <th>8</th>\n",
              "      <td>1276</td>\n",
              "      <td>2</td>\n",
              "      <td>96.0</td>\n",
              "      <td>2702</td>\n",
              "      <td>8.5</td>\n",
              "      <td>5</td>\n",
              "      <td>3</td>\n",
              "      <td>1</td>\n",
              "      <td>1</td>\n",
              "    </tr>\n",
              "    <tr>\n",
              "      <th>9</th>\n",
              "      <td>162</td>\n",
              "      <td>2</td>\n",
              "      <td>86.0</td>\n",
              "      <td>2405</td>\n",
              "      <td>7.9</td>\n",
              "      <td>5</td>\n",
              "      <td>2</td>\n",
              "      <td>1</td>\n",
              "      <td>0</td>\n",
              "    </tr>\n",
              "  </tbody>\n",
              "</table>\n",
              "</div>\n",
              "    <div class=\"colab-df-buttons\">\n",
              "\n",
              "  <div class=\"colab-df-container\">\n",
              "    <button class=\"colab-df-convert\" onclick=\"convertToInteractive('df-55845250-2d8d-42b4-b2da-e8e76c8d06a1')\"\n",
              "            title=\"Convert this dataframe to an interactive table.\"\n",
              "            style=\"display:none;\">\n",
              "\n",
              "  <svg xmlns=\"http://www.w3.org/2000/svg\" height=\"24px\" viewBox=\"0 -960 960 960\">\n",
              "    <path d=\"M120-120v-720h720v720H120Zm60-500h600v-160H180v160Zm220 220h160v-160H400v160Zm0 220h160v-160H400v160ZM180-400h160v-160H180v160Zm440 0h160v-160H620v160ZM180-180h160v-160H180v160Zm440 0h160v-160H620v160Z\"/>\n",
              "  </svg>\n",
              "    </button>\n",
              "\n",
              "  <style>\n",
              "    .colab-df-container {\n",
              "      display:flex;\n",
              "      gap: 12px;\n",
              "    }\n",
              "\n",
              "    .colab-df-convert {\n",
              "      background-color: #E8F0FE;\n",
              "      border: none;\n",
              "      border-radius: 50%;\n",
              "      cursor: pointer;\n",
              "      display: none;\n",
              "      fill: #1967D2;\n",
              "      height: 32px;\n",
              "      padding: 0 0 0 0;\n",
              "      width: 32px;\n",
              "    }\n",
              "\n",
              "    .colab-df-convert:hover {\n",
              "      background-color: #E2EBFA;\n",
              "      box-shadow: 0px 1px 2px rgba(60, 64, 67, 0.3), 0px 1px 3px 1px rgba(60, 64, 67, 0.15);\n",
              "      fill: #174EA6;\n",
              "    }\n",
              "\n",
              "    .colab-df-buttons div {\n",
              "      margin-bottom: 4px;\n",
              "    }\n",
              "\n",
              "    [theme=dark] .colab-df-convert {\n",
              "      background-color: #3B4455;\n",
              "      fill: #D2E3FC;\n",
              "    }\n",
              "\n",
              "    [theme=dark] .colab-df-convert:hover {\n",
              "      background-color: #434B5C;\n",
              "      box-shadow: 0px 1px 3px 1px rgba(0, 0, 0, 0.15);\n",
              "      filter: drop-shadow(0px 1px 2px rgba(0, 0, 0, 0.3));\n",
              "      fill: #FFFFFF;\n",
              "    }\n",
              "  </style>\n",
              "\n",
              "    <script>\n",
              "      const buttonEl =\n",
              "        document.querySelector('#df-55845250-2d8d-42b4-b2da-e8e76c8d06a1 button.colab-df-convert');\n",
              "      buttonEl.style.display =\n",
              "        google.colab.kernel.accessAllowed ? 'block' : 'none';\n",
              "\n",
              "      async function convertToInteractive(key) {\n",
              "        const element = document.querySelector('#df-55845250-2d8d-42b4-b2da-e8e76c8d06a1');\n",
              "        const dataTable =\n",
              "          await google.colab.kernel.invokeFunction('convertToInteractive',\n",
              "                                                    [key], {});\n",
              "        if (!dataTable) return;\n",
              "\n",
              "        const docLinkHtml = 'Like what you see? Visit the ' +\n",
              "          '<a target=\"_blank\" href=https://colab.research.google.com/notebooks/data_table.ipynb>data table notebook</a>'\n",
              "          + ' to learn more about interactive tables.';\n",
              "        element.innerHTML = '';\n",
              "        dataTable['output_type'] = 'display_data';\n",
              "        await google.colab.output.renderOutput(dataTable, element);\n",
              "        const docLink = document.createElement('div');\n",
              "        docLink.innerHTML = docLinkHtml;\n",
              "        element.appendChild(docLink);\n",
              "      }\n",
              "    </script>\n",
              "  </div>\n",
              "\n",
              "\n",
              "    <div id=\"df-50ed93e4-d491-400f-9366-4086c1b522f4\">\n",
              "      <button class=\"colab-df-quickchart\" onclick=\"quickchart('df-50ed93e4-d491-400f-9366-4086c1b522f4')\"\n",
              "                title=\"Suggest charts\"\n",
              "                style=\"display:none;\">\n",
              "\n",
              "<svg xmlns=\"http://www.w3.org/2000/svg\" height=\"24px\"viewBox=\"0 0 24 24\"\n",
              "     width=\"24px\">\n",
              "    <g>\n",
              "        <path d=\"M19 3H5c-1.1 0-2 .9-2 2v14c0 1.1.9 2 2 2h14c1.1 0 2-.9 2-2V5c0-1.1-.9-2-2-2zM9 17H7v-7h2v7zm4 0h-2V7h2v10zm4 0h-2v-4h2v4z\"/>\n",
              "    </g>\n",
              "</svg>\n",
              "      </button>\n",
              "\n",
              "<style>\n",
              "  .colab-df-quickchart {\n",
              "      --bg-color: #E8F0FE;\n",
              "      --fill-color: #1967D2;\n",
              "      --hover-bg-color: #E2EBFA;\n",
              "      --hover-fill-color: #174EA6;\n",
              "      --disabled-fill-color: #AAA;\n",
              "      --disabled-bg-color: #DDD;\n",
              "  }\n",
              "\n",
              "  [theme=dark] .colab-df-quickchart {\n",
              "      --bg-color: #3B4455;\n",
              "      --fill-color: #D2E3FC;\n",
              "      --hover-bg-color: #434B5C;\n",
              "      --hover-fill-color: #FFFFFF;\n",
              "      --disabled-bg-color: #3B4455;\n",
              "      --disabled-fill-color: #666;\n",
              "  }\n",
              "\n",
              "  .colab-df-quickchart {\n",
              "    background-color: var(--bg-color);\n",
              "    border: none;\n",
              "    border-radius: 50%;\n",
              "    cursor: pointer;\n",
              "    display: none;\n",
              "    fill: var(--fill-color);\n",
              "    height: 32px;\n",
              "    padding: 0;\n",
              "    width: 32px;\n",
              "  }\n",
              "\n",
              "  .colab-df-quickchart:hover {\n",
              "    background-color: var(--hover-bg-color);\n",
              "    box-shadow: 0 1px 2px rgba(60, 64, 67, 0.3), 0 1px 3px 1px rgba(60, 64, 67, 0.15);\n",
              "    fill: var(--button-hover-fill-color);\n",
              "  }\n",
              "\n",
              "  .colab-df-quickchart-complete:disabled,\n",
              "  .colab-df-quickchart-complete:disabled:hover {\n",
              "    background-color: var(--disabled-bg-color);\n",
              "    fill: var(--disabled-fill-color);\n",
              "    box-shadow: none;\n",
              "  }\n",
              "\n",
              "  .colab-df-spinner {\n",
              "    border: 2px solid var(--fill-color);\n",
              "    border-color: transparent;\n",
              "    border-bottom-color: var(--fill-color);\n",
              "    animation:\n",
              "      spin 1s steps(1) infinite;\n",
              "  }\n",
              "\n",
              "  @keyframes spin {\n",
              "    0% {\n",
              "      border-color: transparent;\n",
              "      border-bottom-color: var(--fill-color);\n",
              "      border-left-color: var(--fill-color);\n",
              "    }\n",
              "    20% {\n",
              "      border-color: transparent;\n",
              "      border-left-color: var(--fill-color);\n",
              "      border-top-color: var(--fill-color);\n",
              "    }\n",
              "    30% {\n",
              "      border-color: transparent;\n",
              "      border-left-color: var(--fill-color);\n",
              "      border-top-color: var(--fill-color);\n",
              "      border-right-color: var(--fill-color);\n",
              "    }\n",
              "    40% {\n",
              "      border-color: transparent;\n",
              "      border-right-color: var(--fill-color);\n",
              "      border-top-color: var(--fill-color);\n",
              "    }\n",
              "    60% {\n",
              "      border-color: transparent;\n",
              "      border-right-color: var(--fill-color);\n",
              "    }\n",
              "    80% {\n",
              "      border-color: transparent;\n",
              "      border-right-color: var(--fill-color);\n",
              "      border-bottom-color: var(--fill-color);\n",
              "    }\n",
              "    90% {\n",
              "      border-color: transparent;\n",
              "      border-bottom-color: var(--fill-color);\n",
              "    }\n",
              "  }\n",
              "</style>\n",
              "\n",
              "      <script>\n",
              "        async function quickchart(key) {\n",
              "          const quickchartButtonEl =\n",
              "            document.querySelector('#' + key + ' button');\n",
              "          quickchartButtonEl.disabled = true;  // To prevent multiple clicks.\n",
              "          quickchartButtonEl.classList.add('colab-df-spinner');\n",
              "          try {\n",
              "            const charts = await google.colab.kernel.invokeFunction(\n",
              "                'suggestCharts', [key], {});\n",
              "          } catch (error) {\n",
              "            console.error('Error during call to suggestCharts:', error);\n",
              "          }\n",
              "          quickchartButtonEl.classList.remove('colab-df-spinner');\n",
              "          quickchartButtonEl.classList.add('colab-df-quickchart-complete');\n",
              "        }\n",
              "        (() => {\n",
              "          let quickchartButtonEl =\n",
              "            document.querySelector('#df-50ed93e4-d491-400f-9366-4086c1b522f4 button');\n",
              "          quickchartButtonEl.style.display =\n",
              "            google.colab.kernel.accessAllowed ? 'block' : 'none';\n",
              "        })();\n",
              "      </script>\n",
              "    </div>\n",
              "\n",
              "    </div>\n",
              "  </div>\n"
            ],
            "application/vnd.google.colaboratory.intrinsic+json": {
              "type": "dataframe",
              "variable_name": "df",
              "summary": "{\n  \"name\": \"df\",\n  \"rows\": 2931,\n  \"fields\": [\n    {\n      \"column\": \"generic_name\",\n      \"properties\": {\n        \"dtype\": \"number\",\n        \"std\": 389,\n        \"min\": 0,\n        \"max\": 1392,\n        \"num_unique_values\": 1393,\n        \"samples\": [\n          491,\n          202,\n          1286\n        ],\n        \"semantic_type\": \"\",\n        \"description\": \"\"\n      }\n    },\n    {\n      \"column\": \"medical_condition\",\n      \"properties\": {\n        \"dtype\": \"number\",\n        \"std\": 13,\n        \"min\": 0,\n        \"max\": 46,\n        \"num_unique_values\": 47,\n        \"samples\": [\n          27,\n          39,\n          26\n        ],\n        \"semantic_type\": \"\",\n        \"description\": \"\"\n      }\n    },\n    {\n      \"column\": \"no_of_reviews\",\n      \"properties\": {\n        \"dtype\": \"number\",\n        \"std\": 141.04611299100526,\n        \"min\": 0.0,\n        \"max\": 2934.0,\n        \"num_unique_values\": 302,\n        \"samples\": [\n          423.0,\n          140.0,\n          459.0\n        ],\n        \"semantic_type\": \"\",\n        \"description\": \"\"\n      }\n    },\n    {\n      \"column\": \"side_effects\",\n      \"properties\": {\n        \"dtype\": \"number\",\n        \"std\": 796,\n        \"min\": 0,\n        \"max\": 2759,\n        \"num_unique_values\": 2760,\n        \"samples\": [\n          1093,\n          951,\n          559\n        ],\n        \"semantic_type\": \"\",\n        \"description\": \"\"\n      }\n    },\n    {\n      \"column\": \"rating\",\n      \"properties\": {\n        \"dtype\": \"number\",\n        \"std\": 3.7978514837356814,\n        \"min\": 0.0,\n        \"max\": 10.0,\n        \"num_unique_values\": 86,\n        \"samples\": [\n          2.3,\n          6.8,\n          2.9\n        ],\n        \"semantic_type\": \"\",\n        \"description\": \"\"\n      }\n    },\n    {\n      \"column\": \"csa\",\n      \"properties\": {\n        \"dtype\": \"number\",\n        \"std\": 1,\n        \"min\": 0,\n        \"max\": 6,\n        \"num_unique_values\": 7,\n        \"samples\": [\n          5,\n          0,\n          3\n        ],\n        \"semantic_type\": \"\",\n        \"description\": \"\"\n      }\n    },\n    {\n      \"column\": \"pregnancy_category\",\n      \"properties\": {\n        \"dtype\": \"number\",\n        \"std\": 1,\n        \"min\": 0,\n        \"max\": 6,\n        \"num_unique_values\": 7,\n        \"samples\": [\n          3,\n          2,\n          5\n        ],\n        \"semantic_type\": \"\",\n        \"description\": \"\"\n      }\n    },\n    {\n      \"column\": \"rx_otc\",\n      \"properties\": {\n        \"dtype\": \"number\",\n        \"std\": 0,\n        \"min\": 0,\n        \"max\": 3,\n        \"num_unique_values\": 4,\n        \"samples\": [\n          2,\n          3,\n          1\n        ],\n        \"semantic_type\": \"\",\n        \"description\": \"\"\n      }\n    },\n    {\n      \"column\": \"alcohol\",\n      \"properties\": {\n        \"dtype\": \"number\",\n        \"std\": 0,\n        \"min\": 0,\n        \"max\": 1,\n        \"num_unique_values\": 2,\n        \"samples\": [\n          0,\n          1\n        ],\n        \"semantic_type\": \"\",\n        \"description\": \"\"\n      }\n    }\n  ]\n}"
            }
          },
          "metadata": {},
          "execution_count": 54
        }
      ]
    },
    {
      "cell_type": "code",
      "source": [
        "from sklearn.preprocessing import StandardScaler\n",
        "scaler=StandardScaler()\n",
        "scaler.fit(df)\n",
        "scaled_data=scaler.transform(df)\n",
        "print(scaled_data)"
      ],
      "metadata": {
        "colab": {
          "base_uri": "https://localhost:8080/"
        },
        "id": "9yxi50TfEArj",
        "outputId": "89b98014-ce81-4e8e-9c4b-24406820db0e"
      },
      "execution_count": null,
      "outputs": [
        {
          "output_type": "stream",
          "name": "stdout",
          "text": [
            "[[-0.11111578 -1.43400434  5.10119829 ...  0.28892455 -0.17025661\n",
            "   1.06232778]\n",
            " [ 1.50040103 -1.43400434  2.89586941 ... -0.43301735 -0.17025661\n",
            "   1.06232778]\n",
            " [ 0.89479917 -1.43400434  3.12987537 ...  0.28892455 -0.17025661\n",
            "  -0.94132905]\n",
            " ...\n",
            " [ 1.21043065  1.82918864 -0.28802985 ... -0.43301735 -0.17025661\n",
            "   1.06232778]\n",
            " [ 1.47217383  1.82918864 -0.28802985 ...  1.73280834 -0.17025661\n",
            "  -0.94132905]\n",
            " [ 1.47217383  1.82918864 -0.28802985 ...  1.73280834 -0.17025661\n",
            "  -0.94132905]]\n"
          ]
        }
      ]
    },
    {
      "cell_type": "code",
      "source": [
        "df_std = pd.DataFrame(scaler.fit_transform(df),\n",
        "\n",
        "columns=df.columns)\n",
        "print(df_std)"
      ],
      "metadata": {
        "colab": {
          "base_uri": "https://localhost:8080/"
        },
        "id": "G2nI08mvEF-N",
        "outputId": "40194334-3591-4d31-96bb-cf39feb26330"
      },
      "execution_count": null,
      "outputs": [
        {
          "output_type": "stream",
          "name": "stdout",
          "text": [
            "      generic_name  medical_condition  no_of_reviews  side_effects    rating  \\\n",
            "0        -0.111116          -1.434004       5.101198     -1.678954  0.819930   \n",
            "1         1.500401          -1.434004       2.895869      0.778579  0.925271   \n",
            "2         0.894799          -1.434004       3.129875      1.689009  0.530244   \n",
            "3         0.558639          -1.434004       4.129719      1.529527  1.109617   \n",
            "4        -0.462673          -1.434004       0.747269     -0.115526  0.977941   \n",
            "...            ...                ...            ...           ...       ...   \n",
            "2926     -0.832193           1.829189      -0.167481      0.757231  1.004277   \n",
            "2927      0.112136           1.829189      -0.288030      0.370455 -0.970861   \n",
            "2928      1.210431           1.829189      -0.288030     -1.029724 -0.970861   \n",
            "2929      1.472174           1.829189      -0.288030     -1.175392 -0.970861   \n",
            "2930      1.472174           1.829189      -0.288030      0.444545 -0.970861   \n",
            "\n",
            "           csa  pregnancy_category    rx_otc   alcohol  \n",
            "0     0.274178            0.288925 -0.170257  1.062328  \n",
            "1     0.274178           -0.433017 -0.170257  1.062328  \n",
            "2     0.274178            0.288925 -0.170257 -0.941329  \n",
            "3     0.274178            2.454750 -0.170257  1.062328  \n",
            "4     0.274178           -1.154959 -0.170257 -0.941329  \n",
            "...        ...                 ...       ...       ...  \n",
            "2926 -3.424857            2.454750 -0.170257  1.062328  \n",
            "2927 -2.500098           -0.433017 -0.170257  1.062328  \n",
            "2928 -3.424857           -0.433017 -0.170257  1.062328  \n",
            "2929  0.274178            1.732808 -0.170257 -0.941329  \n",
            "2930  0.274178            1.732808 -0.170257 -0.941329  \n",
            "\n",
            "[2931 rows x 9 columns]\n"
          ]
        }
      ]
    },
    {
      "cell_type": "code",
      "source": [
        "import seaborn as sns\n",
        "import matplotlib.pyplot as plt"
      ],
      "metadata": {
        "id": "6N5wVcLXEWc3"
      },
      "execution_count": null,
      "outputs": []
    },
    {
      "cell_type": "code",
      "source": [
        "plt.figure(figsize=(12, 8))\n",
        "sns.heatmap(df.corr(), annot=True, cmap='coolwarm', fmt=\".2f\")\n",
        "plt.title('Correlation Heatmap')\n",
        "plt.show()"
      ],
      "metadata": {
        "colab": {
          "base_uri": "https://localhost:8080/",
          "height": 540
        },
        "id": "g5zPAcbuEZvS",
        "outputId": "cb940643-b982-47ee-aa25-0ba0e76263ca"
      },
      "execution_count": null,
      "outputs": [
        {
          "output_type": "display_data",
          "data": {
            "text/plain": [
              "<Figure size 1200x800 with 2 Axes>"
            ],
            "image/png": "[encoded data removed]"
          },
          "metadata": {}
        }
      ]
    },
    {
      "cell_type": "code",
      "source": [
        "# Read the new version dataset\n",
        "\n",
        "data_ver4 =pd.read_csv('/content/drugs_side_effects_drugs_com_version2.csv')"
      ],
      "metadata": {
        "id": "qCXuqsGKEgnv"
      },
      "execution_count": null,
      "outputs": []
    },
    {
      "cell_type": "code",
      "source": [
        "# Importing necessary libraries\n",
        "from mlxtend.frequent_patterns import apriori,association_rules\n",
        "import matplotlib.pyplot as plt\n",
        "import pandas as pd"
      ],
      "metadata": {
        "id": "kBAPzxUYEtWQ"
      },
      "execution_count": null,
      "outputs": []
    },
    {
      "cell_type": "code",
      "source": [
        "# Check for occurrence and frequency of medical conditions,sorted from highest to lowest\n",
        "medical_condition_counts =data_ver4['medical_condition'].value_counts().sort_values(ascending=False)\n",
        "print(\"\\nMedical condition occurrence and frequency (sorted from highest to lowest):\")\n",
        "print(medical_condition_counts)"
      ],
      "metadata": {
        "colab": {
          "base_uri": "https://localhost:8080/"
        },
        "id": "1uqSmjXIEtSx",
        "outputId": "b3aa1096-4291-4b46-a0b6-0b2d47f787a9"
      },
      "execution_count": null,
      "outputs": [
        {
          "output_type": "stream",
          "name": "stdout",
          "text": [
            "\n",
            "Medical condition occurrence and frequency (sorted from highest to lowest):\n",
            "medical_condition\n",
            "Pain                    264\n",
            "Colds & Flu             245\n",
            "Acne                    238\n",
            "Hypertension            177\n",
            "Osteoarthritis          129\n",
            "Hayfever                124\n",
            "Eczema                  122\n",
            "AIDS/HIV                109\n",
            "Diabetes (Type 2)       104\n",
            "Psoriasis                93\n",
            "GERD (Heartburn)         77\n",
            "Pneumonia                72\n",
            "Bronchitis               71\n",
            "Angina                   71\n",
            "Migraine                 61\n",
            "Insomnia                 60\n",
            "Constipation             60\n",
            "Diabetes (Type 1)        57\n",
            "Osteoporosis             56\n",
            "ADHD                     55\n",
            "Depression               51\n",
            "Seizures                 50\n",
            "Bipolar Disorder         47\n",
            "UTI                      46\n",
            "Asthma                   45\n",
            "Cholesterol              45\n",
            "Anxiety                  45\n",
            "Diarrhea                 38\n",
            "Covid 19                 34\n",
            "Rheumatoid Arthritis     33\n",
            "Alzheimer's              27\n",
            "COPD                     23\n",
            "Weight Loss              23\n",
            "IBD (Bowel)              22\n",
            "Cancer                   20\n",
            "Schizophrenia            20\n",
            "Incontinence             19\n",
            "Hypothyroidism           17\n",
            "Allergies                14\n",
            "Erectile Dysfunction     13\n",
            "Hair Loss                11\n",
            "Herpes                   10\n",
            "Gout                      9\n",
            "Gastrointestinal          7\n",
            "Menopause                 7\n",
            "Swine Flu                 5\n",
            "Stroke                    5\n",
            "Name: count, dtype: int64\n"
          ]
        }
      ]
    },
    {
      "cell_type": "code",
      "source": [
        "# Save the results to CSV files if needed\n",
        "\n",
        "medical_condition_counts.to_csv('medical_condition_counts.csv')"
      ],
      "metadata": {
        "id": "4mnEWoe2FFo2"
      },
      "execution_count": null,
      "outputs": []
    },
    {
      "cell_type": "code",
      "source": [
        "# Importing necessary libraries for processing text\n",
        "from collections import Counter\n",
        "import re"
      ],
      "metadata": {
        "id": "_E5E3mGdFKDH"
      },
      "execution_count": null,
      "outputs": []
    },
    {
      "cell_type": "code",
      "source": [
        "# Function to extract side effects from text, split bysemicolons\n",
        "def extract_side_effects(text):\n",
        "    # Split the text on semicolons then strip whitespace\n",
        "    return [effect.strip() for effect in re.split(r'[;]',text)] # Added indentation here"
      ],
      "metadata": {
        "id": "dKUnANqZFx4h"
      },
      "execution_count": null,
      "outputs": []
    },
    {
      "cell_type": "code",
      "source": [
        "# Extract and count occurrences of side effects\n",
        "\n",
        "# Extract and count occurrences of side effects\n",
        "\n",
        "side_effects = data_ver4['side_effects'].dropna().apply(extract_side_effects).explode()\n",
        "side_effect_counts = side_effects.value_counts().sort_values(ascending=False)\n",
        "side_effect_counts"
      ],
      "metadata": {
        "colab": {
          "base_uri": "https://localhost:8080/",
          "height": 819
        },
        "id": "meHQgTC-GGj1",
        "outputId": "241d1bdf-bd04-4d71-d52b-98431ae29065"
      },
      "execution_count": null,
      "outputs": [
        {
          "output_type": "execute_result",
          "data": {
            "text/plain": [
              "side_effects\n",
              "hives                                                                                                                                                                                                                                                                                                                                                                                                                                                                                                   1788\n",
              "difficult breathing                                                                                                                                                                                                                                                                                                                                                                                                                                                                                     1130\n",
              "difficulty breathing                                                                                                                                                                                                                                                                                                                                                                                                                                                                                     450\n",
              "itching                                                                                                                                                                                                                                                                                                                                                                                                                                                                                                  275\n",
              "a light-headed feeling, like you might pass out                                                                                                                                                                                                                                                                                                                                                                                                                                                          272\n",
              "                                                                                                                                                                                                                                                                                                                                                                                                                                                                                                        ... \n",
              "or high levels of calcium in your blood--nausea, vomiting , constipation , increased thirst or urination, muscle weakness, bone pain, lack of energy. Common side effects of estradiol and progesterone may include: pelvic pain                                                                                                                                                                                                                                                                           1\n",
              "or Methyltestosterone can cause symptoms of male features in a woman taking this medicine. Call your doctor if you develop enlarged genitals, male-pattern baldness , excessive body hair growth, increased acne , irregular menstrual periods, or any signs of male characteristics. Common side effects of Covaryx HS may include: swollen or painful breasts                                                                                                                                            1\n",
              "swelling of your face, lips, tongue, or throat. Report any new or worsening symptoms to your doctor, such as: mood or behavior changes, anxiety , panic attacks , trouble sleeping, or if you feel impulsive, irritable, agitated, hostile, aggressive, restless, hyperactive (mentally or physically), more depressed, or have thoughts about suicide or hurting yourself. Call your doctor at once if you have: blurred vision, tunnel vision, eye pain or swelling, or seeing halos around lights       1\n",
              "or low levels of sodium in the body - headache , confusion, slurred speech, severe weakness, loss of coordination, feeling unsteady. Seek medical attention right away if you have symptoms of serotonin syndrome, such as: agitation, hallucinations, fever, sweating, shivering, fast heart rate , muscle stiffness, twitching, loss of coordination, nausea , vomiting , or diarrhea . Common Viibryd side effects may include: nausea, vomiting                                                        1\n",
              "swelling of your face, lips, tongue, or throat. Report any new or worsening symptoms to your doctor, such as: mood or behavior changes, anxiety , panic attacks , trouble sleeping, or if you feel impulsive, irritable, agitated, hostile, aggressive, restless, hyperactive (mentally or physically), more depressed, or have thoughts about suicide or hurting yourself. Call your doctor at once if you have: a seizure (convulsions)                                                                  1\n",
              "Name: count, Length: 8438, dtype: int64"
            ],
            "text/html": [
              "<div>\n",
              "<style scoped>\n",
              "    .dataframe tbody tr th:only-of-type {\n",
              "        vertical-align: middle;\n",
              "    }\n",
              "\n",
              "    .dataframe tbody tr th {\n",
              "        vertical-align: top;\n",
              "    }\n",
              "\n",
              "    .dataframe thead th {\n",
              "        text-align: right;\n",
              "    }\n",
              "</style>\n",
              "<table border=\"1\" class=\"dataframe\">\n",
              "  <thead>\n",
              "    <tr style=\"text-align: right;\">\n",
              "      <th></th>\n",
              "      <th>count</th>\n",
              "    </tr>\n",
              "    <tr>\n",
              "      <th>side_effects</th>\n",
              "      <th></th>\n",
              "    </tr>\n",
              "  </thead>\n",
              "  <tbody>\n",
              "    <tr>\n",
              "      <th>hives</th>\n",
              "      <td>1788</td>\n",
              "    </tr>\n",
              "    <tr>\n",
              "      <th>difficult breathing</th>\n",
              "      <td>1130</td>\n",
              "    </tr>\n",
              "    <tr>\n",
              "      <th>difficulty breathing</th>\n",
              "      <td>450</td>\n",
              "    </tr>\n",
              "    <tr>\n",
              "      <th>itching</th>\n",
              "      <td>275</td>\n",
              "    </tr>\n",
              "    <tr>\n",
              "      <th>a light-headed feeling, like you might pass out</th>\n",
              "      <td>272</td>\n",
              "    </tr>\n",
              "    <tr>\n",
              "      <th>...</th>\n",
              "      <td>...</td>\n",
              "    </tr>\n",
              "    <tr>\n",
              "      <th>or high levels of calcium in your blood--nausea, vomiting , constipation , increased thirst or urination, muscle weakness, bone pain, lack of energy. Common side effects of estradiol and progesterone may include: pelvic pain</th>\n",
              "      <td>1</td>\n",
              "    </tr>\n",
              "    <tr>\n",
              "      <th>or Methyltestosterone can cause symptoms of male features in a woman taking this medicine. Call your doctor if you develop enlarged genitals, male-pattern baldness , excessive body hair growth, increased acne , irregular menstrual periods, or any signs of male characteristics. Common side effects of Covaryx HS may include: swollen or painful breasts</th>\n",
              "      <td>1</td>\n",
              "    </tr>\n",
              "    <tr>\n",
              "      <th>swelling of your face, lips, tongue, or throat. Report any new or worsening symptoms to your doctor, such as: mood or behavior changes, anxiety , panic attacks , trouble sleeping, or if you feel impulsive, irritable, agitated, hostile, aggressive, restless, hyperactive (mentally or physically), more depressed, or have thoughts about suicide or hurting yourself. Call your doctor at once if you have: blurred vision, tunnel vision, eye pain or swelling, or seeing halos around lights</th>\n",
              "      <td>1</td>\n",
              "    </tr>\n",
              "    <tr>\n",
              "      <th>or low levels of sodium in the body - headache , confusion, slurred speech, severe weakness, loss of coordination, feeling unsteady. Seek medical attention right away if you have symptoms of serotonin syndrome, such as: agitation, hallucinations, fever, sweating, shivering, fast heart rate , muscle stiffness, twitching, loss of coordination, nausea , vomiting , or diarrhea . Common Viibryd side effects may include: nausea, vomiting</th>\n",
              "      <td>1</td>\n",
              "    </tr>\n",
              "    <tr>\n",
              "      <th>swelling of your face, lips, tongue, or throat. Report any new or worsening symptoms to your doctor, such as: mood or behavior changes, anxiety , panic attacks , trouble sleeping, or if you feel impulsive, irritable, agitated, hostile, aggressive, restless, hyperactive (mentally or physically), more depressed, or have thoughts about suicide or hurting yourself. Call your doctor at once if you have: a seizure (convulsions)</th>\n",
              "      <td>1</td>\n",
              "    </tr>\n",
              "  </tbody>\n",
              "</table>\n",
              "<p>8438 rows × 1 columns</p>\n",
              "</div><br><label><b>dtype:</b> int64</label>"
            ]
          },
          "metadata": {},
          "execution_count": 67
        }
      ]
    },
    {
      "cell_type": "code",
      "source": [
        "# Save the side effect counts to a CSV file\n",
        "\n",
        "side_effect_counts.to_csv('/content/medical_condition_counts.csv')"
      ],
      "metadata": {
        "id": "O8xxC9pW79Bc"
      },
      "execution_count": null,
      "outputs": []
    },
    {
      "cell_type": "code",
      "source": [
        "# Function to extract drug classes from text, split by commas\n",
        "def extract_drug_classes(text):\n",
        "# Split the text on commas then strip whitespace\n",
        "      return [effect.strip() for effect in re.split(r'[,]',text)]"
      ],
      "metadata": {
        "id": "nrOnUhZa8b1r"
      },
      "execution_count": null,
      "outputs": []
    },
    {
      "cell_type": "code",
      "source": [
        "# Extract and count occurrences of drug classes\n",
        "drug_classes =data_ver4['drug_classes'].dropna().apply(extract_drug_classes).explode()\n",
        "drug_classes_counts =drug_classes.value_counts().sort_values(ascending=False)\n",
        "print(\"\\nDrug Classes occurrence and frequency (sorted from highest to lowest):\")\n",
        "print(drug_classes_counts)"
      ],
      "metadata": {
        "colab": {
          "base_uri": "https://localhost:8080/"
        },
        "id": "bcD7cW4c8t5F",
        "outputId": "8b4c341c-47ca-4a7d-fa13-d3d94d3ada93"
      },
      "execution_count": null,
      "outputs": [
        {
          "output_type": "stream",
          "name": "stdout",
          "text": [
            "\n",
            "Drug Classes occurrence and frequency (sorted from highest to lowest):\n",
            "drug_classes\n",
            "Upper respiratory combinations    245\n",
            "Topical acne agents               125\n",
            "Topical steroids                   94\n",
            "Antihistamines                     82\n",
            "Unknown                            82\n",
            "                                 ... \n",
            "Antipseudomonal penicillins         1\n",
            "CD52 monoclonal antibodies          1\n",
            "Progestins                          1\n",
            "Interferons                         1\n",
            "Thioxanthenes                       1\n",
            "Name: count, Length: 244, dtype: int64\n"
          ]
        }
      ]
    },
    {
      "cell_type": "code",
      "source": [
        "# Save the drug classes counts to a CSV file\n",
        "\n",
        "drug_classes_counts.to_csv('drug_classes_counts.csv')"
      ],
      "metadata": {
        "id": "UGpO09FO859b"
      },
      "execution_count": null,
      "outputs": []
    },
    {
      "cell_type": "code",
      "source": [
        "# Define functions to check for specific side effects and create new boolean columns\n",
        "\n",
        "def has_hives(text):\n",
        "      return 'hives' in text.lower()\n",
        "data_ver4['Hives'] = data_ver4['side_effects'].apply(has_hives)\n",
        "\n",
        "def has_difficult_breathing(text):\n",
        "      return 'difficult breathing' in text.lower() or 'difficulty breathing' in text.lower()\n",
        "data_ver4['Difficult Breathing'] = data_ver4['side_effects'].apply(has_difficult_breathing)\n",
        "def has_itching(text):\n",
        "         return 'itching' in text.lower()\n",
        "data_ver4['Itching'] = data_ver4['side_effects'].apply(has_itching)"
      ],
      "metadata": {
        "id": "CMJgET_09C9G"
      },
      "execution_count": null,
      "outputs": []
    },
    {
      "cell_type": "code",
      "source": [
        "# Define functions to check for specific drug classes and create new boolean columns\n",
        "\n",
        "def is_usc(text):\n",
        "      return 'Upper respiratory combinations' in text\n",
        "data_ver4['Upper respiratory combinations'] =  data_ver4['drug_classes'].apply(is_usc)\n",
        "\n",
        "def is_steriods(text):\n",
        "      return 'Topical steroids' in text\n",
        "data_ver4['Topical steroids'] = data_ver4['drug_classes'].apply(is_steriods)\n",
        "\n",
        "def is_acne(text):\n",
        "      return 'Topical acne agents' in text\n",
        "data_ver4['Topical acne agents'] = data_ver4['drug_classes'].apply(is_acne)"
      ],
      "metadata": {
        "id": "6EwDVPoU9cLb"
      },
      "execution_count": null,
      "outputs": []
    },
    {
      "cell_type": "code",
      "source": [
        "# Define functions to check for specific medical conditions and create new boolean columns\n",
        "\n",
        "def has_pain(text):\n",
        "     return 'Pain' in text\n",
        "\n",
        "data_ver4['Pain'] = data_ver4['medical_condition'].apply(has_pain)\n",
        "\n",
        "def has_colds_and_flu(text):\n",
        "     return 'Colds & Flu' in text\n",
        "\n",
        "data_ver4['Colds & Flu'] = data_ver4['medical_condition'].apply(has_colds_and_flu)\n",
        "\n",
        "def has_acne(text):\n",
        "     return 'Acne' in text\n",
        "\n",
        "data_ver4['Acne'] = data_ver4['medical_condition'].apply(has_acne)"
      ],
      "metadata": {
        "id": "NvNvH1Mk9zlA"
      },
      "execution_count": null,
      "outputs": []
    },
    {
      "cell_type": "code",
      "source": [
        "# Plot the count of occurrences for each side effect\n",
        "\n",
        "import seaborn as sns"
      ],
      "metadata": {
        "id": "kARd-t4X-BGW"
      },
      "execution_count": null,
      "outputs": []
    },
    {
      "cell_type": "code",
      "source": [
        "# Plot count of Hives\n",
        "\n",
        "data_ver4['Hives'].value_counts().plot(kind='bar')\n",
        "plt.title('Count of Hives')\n",
        "plt.xlabel('Hives')\n",
        "plt.ylabel('Count')\n",
        "plt.xticks([0, 1], ['False', 'True'], rotation=0)\n",
        "plt.show()"
      ],
      "metadata": {
        "colab": {
          "base_uri": "https://localhost:8080/",
          "height": 472
        },
        "id": "_9eTSpQN-E2a",
        "outputId": "08df1226-3f2d-4871-8ae6-045b1b306b97"
      },
      "execution_count": null,
      "outputs": [
        {
          "output_type": "display_data",
          "data": {
            "text/plain": [
              "<Figure size 640x480 with 1 Axes>"
            ],
            "image/png": "[encoded data removed]"
          },
          "metadata": {}
        }
      ]
    },
    {
      "cell_type": "code",
      "source": [
        "# Plot count of Difficult Breathing\n",
        "data_ver4['Difficult Breathing'].value_counts().plot(kind='bar')\n",
        "plt.title('Count of Difficult Breathing')\n",
        "plt.xlabel('Difficult Breathing')\n",
        "\n",
        "plt.ylabel('Count')\n",
        "plt.xticks([0, 1], ['False', 'True'], rotation=0)\n",
        "plt.show()"
      ],
      "metadata": {
        "colab": {
          "base_uri": "https://localhost:8080/",
          "height": 472
        },
        "id": "ypfwNgu5-K9J",
        "outputId": "557e389d-97c1-4a0f-8deb-b0470dac540a"
      },
      "execution_count": null,
      "outputs": [
        {
          "output_type": "display_data",
          "data": {
            "text/plain": [
              "<Figure size 640x480 with 1 Axes>"
            ],
            "image/png": "[encoded data removed]"
          },
          "metadata": {}
        }
      ]
    },
    {
      "cell_type": "code",
      "source": [
        "# Plot count of Itching\n",
        "data_ver4['Itching'].value_counts().plot(kind='bar')\n",
        "plt.title('Count of Itching')\n",
        "plt.xlabel('Itching')\n",
        "plt.ylabel('Count')\n",
        "plt.xticks([0, 1], ['False', 'True'], rotation=0)\n",
        "plt.show()"
      ],
      "metadata": {
        "colab": {
          "base_uri": "https://localhost:8080/",
          "height": 472
        },
        "id": "ukCJyRk9-R7K",
        "outputId": "2fdbdc2b-66cd-415a-9ae1-8ef514d1a946"
      },
      "execution_count": null,
      "outputs": [
        {
          "output_type": "display_data",
          "data": {
            "text/plain": [
              "<Figure size 640x480 with 1 Axes>"
            ],
            "image/png": "[encoded data removed]"
          },
          "metadata": {}
        }
      ]
    },
    {
      "cell_type": "code",
      "source": [
        "# Plot the count of occurrences for each drug class\n",
        "\n",
        "# Plot count of Upper respiratory combinations\n",
        "data_ver4['Upper respiratory combinations'].value_counts().plot(kind='bar')\n",
        "plt.title('Count of Upper respiratory combinations')\n",
        "plt.xlabel('Upper respiratory combinations')\n",
        "\n",
        "plt.ylabel('Count')\n",
        "plt.xticks([0, 1], ['False', 'True'], rotation=0)\n",
        "plt.show()"
      ],
      "metadata": {
        "colab": {
          "base_uri": "https://localhost:8080/",
          "height": 472
        },
        "id": "na2LXq8m-Y0A",
        "outputId": "87e44165-8f20-4280-c93f-4913e8f2ac88"
      },
      "execution_count": null,
      "outputs": [
        {
          "output_type": "display_data",
          "data": {
            "text/plain": [
              "<Figure size 640x480 with 1 Axes>"
            ],
            "image/png": "[encoded data removed]"
          },
          "metadata": {}
        }
      ]
    },
    {
      "cell_type": "code",
      "source": [
        "# Plot count of Topical steroids\n",
        "data_ver4['Topical steroids'].value_counts().plot(kind='bar')\n",
        "plt.title('Count of Topical steroids')\n",
        "plt.xlabel('Topical steroids')\n",
        "plt.ylabel('Count')\n",
        "plt.xticks([0, 1], ['False', 'True'], rotation=0)\n",
        "plt.show()"
      ],
      "metadata": {
        "colab": {
          "base_uri": "https://localhost:8080/",
          "height": 472
        },
        "id": "gMSjrTj--gdv",
        "outputId": "51614008-0297-4e9d-803d-8b1920704196"
      },
      "execution_count": null,
      "outputs": [
        {
          "output_type": "display_data",
          "data": {
            "text/plain": [
              "<Figure size 640x480 with 1 Axes>"
            ],
            "image/png": "[encoded data removed]"
          },
          "metadata": {}
        }
      ]
    }
  ]
}